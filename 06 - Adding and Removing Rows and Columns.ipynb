{
 "cells": [
  {
   "cell_type": "markdown",
   "id": "c2c18e4a",
   "metadata": {},
   "source": [
    "# 06. Adding and Removing Rows and Columns"
   ]
  },
  {
   "cell_type": "markdown",
   "id": "91f34810",
   "metadata": {},
   "source": [
    "---"
   ]
  },
  {
   "cell_type": "markdown",
   "id": "e21a98a7",
   "metadata": {},
   "source": [
    "In the last notebook, we looked at how we can update data in Pandas. In this notebook, we explore adding/removing rows and columns in Pandas.\n",
    "\n",
    "As usual, we start by creating a dictionary in pure Python and then turning it into a Pandas DataFrame to see how the examples we give here might look applied: "
   ]
  },
  {
   "cell_type": "code",
   "execution_count": 1,
   "id": "5ae378ad",
   "metadata": {},
   "outputs": [],
   "source": [
    "import pandas as pd"
   ]
  },
  {
   "cell_type": "code",
   "execution_count": 2,
   "id": "0bbccfcd",
   "metadata": {},
   "outputs": [],
   "source": [
    "people = {'First name': ['Adam', 'John', 'Jake', 'Jane'],\n",
    "         'Last name': ['Smith', 'Doe', 'Doe', 'Snow'],\n",
    "         'Email': ['adamsmith@gmail.com', 'johndoe@notreally.com', 'jakedoe@notawebsite.org', 'janesnow@mail.com']}"
   ]
  },
  {
   "cell_type": "code",
   "execution_count": 3,
   "id": "912837a6",
   "metadata": {},
   "outputs": [],
   "source": [
    "people_df = pd.DataFrame(people)"
   ]
  },
  {
   "cell_type": "code",
   "execution_count": 4,
   "id": "6c1c8f25",
   "metadata": {},
   "outputs": [
    {
     "data": {
      "text/html": [
       "<div>\n",
       "<style scoped>\n",
       "    .dataframe tbody tr th:only-of-type {\n",
       "        vertical-align: middle;\n",
       "    }\n",
       "\n",
       "    .dataframe tbody tr th {\n",
       "        vertical-align: top;\n",
       "    }\n",
       "\n",
       "    .dataframe thead th {\n",
       "        text-align: right;\n",
       "    }\n",
       "</style>\n",
       "<table border=\"1\" class=\"dataframe\">\n",
       "  <thead>\n",
       "    <tr style=\"text-align: right;\">\n",
       "      <th></th>\n",
       "      <th>First name</th>\n",
       "      <th>Last name</th>\n",
       "      <th>Email</th>\n",
       "    </tr>\n",
       "  </thead>\n",
       "  <tbody>\n",
       "    <tr>\n",
       "      <th>0</th>\n",
       "      <td>Adam</td>\n",
       "      <td>Smith</td>\n",
       "      <td>adamsmith@gmail.com</td>\n",
       "    </tr>\n",
       "    <tr>\n",
       "      <th>1</th>\n",
       "      <td>John</td>\n",
       "      <td>Doe</td>\n",
       "      <td>johndoe@notreally.com</td>\n",
       "    </tr>\n",
       "    <tr>\n",
       "      <th>2</th>\n",
       "      <td>Jake</td>\n",
       "      <td>Doe</td>\n",
       "      <td>jakedoe@notawebsite.org</td>\n",
       "    </tr>\n",
       "    <tr>\n",
       "      <th>3</th>\n",
       "      <td>Jane</td>\n",
       "      <td>Snow</td>\n",
       "      <td>janesnow@mail.com</td>\n",
       "    </tr>\n",
       "  </tbody>\n",
       "</table>\n",
       "</div>"
      ],
      "text/plain": [
       "  First name Last name                    Email\n",
       "0       Adam     Smith      adamsmith@gmail.com\n",
       "1       John       Doe    johndoe@notreally.com\n",
       "2       Jake       Doe  jakedoe@notawebsite.org\n",
       "3       Jane      Snow        janesnow@mail.com"
      ]
     },
     "execution_count": 4,
     "metadata": {},
     "output_type": "execute_result"
    }
   ],
   "source": [
    "people_df"
   ]
  },
  {
   "cell_type": "markdown",
   "id": "4656c9f9",
   "metadata": {},
   "source": [
    "Let's say we want to add a new column to our DataFrame.\n",
    "\n",
    "We can do that by simply specifying the name of the new column and the values of this column.\n",
    "\n",
    "For example, let's create a `Full name` column by combining the first and last name of a person:"
   ]
  },
  {
   "cell_type": "code",
   "execution_count": 5,
   "id": "38bda070",
   "metadata": {},
   "outputs": [],
   "source": [
    "people_df['Full name'] = people_df['First name'] + ' ' + people_df['Last name']"
   ]
  },
  {
   "cell_type": "code",
   "execution_count": 6,
   "id": "18e69606",
   "metadata": {},
   "outputs": [
    {
     "data": {
      "text/html": [
       "<div>\n",
       "<style scoped>\n",
       "    .dataframe tbody tr th:only-of-type {\n",
       "        vertical-align: middle;\n",
       "    }\n",
       "\n",
       "    .dataframe tbody tr th {\n",
       "        vertical-align: top;\n",
       "    }\n",
       "\n",
       "    .dataframe thead th {\n",
       "        text-align: right;\n",
       "    }\n",
       "</style>\n",
       "<table border=\"1\" class=\"dataframe\">\n",
       "  <thead>\n",
       "    <tr style=\"text-align: right;\">\n",
       "      <th></th>\n",
       "      <th>First name</th>\n",
       "      <th>Last name</th>\n",
       "      <th>Email</th>\n",
       "      <th>Full name</th>\n",
       "    </tr>\n",
       "  </thead>\n",
       "  <tbody>\n",
       "    <tr>\n",
       "      <th>0</th>\n",
       "      <td>Adam</td>\n",
       "      <td>Smith</td>\n",
       "      <td>adamsmith@gmail.com</td>\n",
       "      <td>Adam Smith</td>\n",
       "    </tr>\n",
       "    <tr>\n",
       "      <th>1</th>\n",
       "      <td>John</td>\n",
       "      <td>Doe</td>\n",
       "      <td>johndoe@notreally.com</td>\n",
       "      <td>John Doe</td>\n",
       "    </tr>\n",
       "    <tr>\n",
       "      <th>2</th>\n",
       "      <td>Jake</td>\n",
       "      <td>Doe</td>\n",
       "      <td>jakedoe@notawebsite.org</td>\n",
       "      <td>Jake Doe</td>\n",
       "    </tr>\n",
       "    <tr>\n",
       "      <th>3</th>\n",
       "      <td>Jane</td>\n",
       "      <td>Snow</td>\n",
       "      <td>janesnow@mail.com</td>\n",
       "      <td>Jane Snow</td>\n",
       "    </tr>\n",
       "  </tbody>\n",
       "</table>\n",
       "</div>"
      ],
      "text/plain": [
       "  First name Last name                    Email   Full name\n",
       "0       Adam     Smith      adamsmith@gmail.com  Adam Smith\n",
       "1       John       Doe    johndoe@notreally.com    John Doe\n",
       "2       Jake       Doe  jakedoe@notawebsite.org    Jake Doe\n",
       "3       Jane      Snow        janesnow@mail.com   Jane Snow"
      ]
     },
     "execution_count": 6,
     "metadata": {},
     "output_type": "execute_result"
    }
   ],
   "source": [
    "people_df"
   ]
  },
  {
   "cell_type": "markdown",
   "id": "14fee245",
   "metadata": {},
   "source": [
    "As we see, the effect takes place immediately.\n",
    "\n",
    "This works because we are assigning a Series object to the new column. To assign a new column containing numerical values, we can use the `apply` method from the last notebook instead of our string type expression."
   ]
  },
  {
   "cell_type": "markdown",
   "id": "208b1c31",
   "metadata": {},
   "source": [
    "**Note: We can't use the dot notation to create a new column, as Pandas will assume we are trying to assign an attribute or a method to the DataFrame object, and not column. So we have to use brackets to create new columns.**"
   ]
  },
  {
   "cell_type": "markdown",
   "id": "d7c53bcb",
   "metadata": {},
   "source": [
    "Let's say we now want to remove our first and last name columns, as we no longer need them. For that, we use Pandas'\n",
    " `drop` method:"
   ]
  },
  {
   "cell_type": "code",
   "execution_count": 7,
   "id": "e0d5125e",
   "metadata": {},
   "outputs": [],
   "source": [
    "people_df.drop(columns=['First name', 'Last name'], inplace=True)"
   ]
  },
  {
   "cell_type": "code",
   "execution_count": 8,
   "id": "58cc67d4",
   "metadata": {},
   "outputs": [
    {
     "data": {
      "text/html": [
       "<div>\n",
       "<style scoped>\n",
       "    .dataframe tbody tr th:only-of-type {\n",
       "        vertical-align: middle;\n",
       "    }\n",
       "\n",
       "    .dataframe tbody tr th {\n",
       "        vertical-align: top;\n",
       "    }\n",
       "\n",
       "    .dataframe thead th {\n",
       "        text-align: right;\n",
       "    }\n",
       "</style>\n",
       "<table border=\"1\" class=\"dataframe\">\n",
       "  <thead>\n",
       "    <tr style=\"text-align: right;\">\n",
       "      <th></th>\n",
       "      <th>Email</th>\n",
       "      <th>Full name</th>\n",
       "    </tr>\n",
       "  </thead>\n",
       "  <tbody>\n",
       "    <tr>\n",
       "      <th>0</th>\n",
       "      <td>adamsmith@gmail.com</td>\n",
       "      <td>Adam Smith</td>\n",
       "    </tr>\n",
       "    <tr>\n",
       "      <th>1</th>\n",
       "      <td>johndoe@notreally.com</td>\n",
       "      <td>John Doe</td>\n",
       "    </tr>\n",
       "    <tr>\n",
       "      <th>2</th>\n",
       "      <td>jakedoe@notawebsite.org</td>\n",
       "      <td>Jake Doe</td>\n",
       "    </tr>\n",
       "    <tr>\n",
       "      <th>3</th>\n",
       "      <td>janesnow@mail.com</td>\n",
       "      <td>Jane Snow</td>\n",
       "    </tr>\n",
       "  </tbody>\n",
       "</table>\n",
       "</div>"
      ],
      "text/plain": [
       "                     Email   Full name\n",
       "0      adamsmith@gmail.com  Adam Smith\n",
       "1    johndoe@notreally.com    John Doe\n",
       "2  jakedoe@notawebsite.org    Jake Doe\n",
       "3        janesnow@mail.com   Jane Snow"
      ]
     },
     "execution_count": 8,
     "metadata": {},
     "output_type": "execute_result"
    }
   ],
   "source": [
    "people_df"
   ]
  },
  {
   "cell_type": "markdown",
   "id": "aeb85c10",
   "metadata": {},
   "source": [
    "As we can see, we can drop the columns by using `inplace=True` if we are satisfied with the preview we would get by using `drop` without it.\n",
    "\n",
    "Note: We pass a list of columns names because we are dropping multiple columns at once."
   ]
  },
  {
   "cell_type": "markdown",
   "id": "370924f1",
   "metadata": {},
   "source": [
    "Now, let's go for something a bit different: splitting one column into multiple columns.\n",
    "\n",
    "We can do that using the string class method `split`:"
   ]
  },
  {
   "cell_type": "code",
   "execution_count": 9,
   "id": "b5cfc0b8",
   "metadata": {},
   "outputs": [
    {
     "data": {
      "text/plain": [
       "0    [Adam, Smith]\n",
       "1      [John, Doe]\n",
       "2      [Jake, Doe]\n",
       "3     [Jane, Snow]\n",
       "Name: Full name, dtype: object"
      ]
     },
     "execution_count": 9,
     "metadata": {},
     "output_type": "execute_result"
    }
   ],
   "source": [
    "people_df['Full name'].str.split(' ')"
   ]
  },
  {
   "cell_type": "markdown",
   "id": "8ab3f0fb",
   "metadata": {},
   "source": [
    "This returns a list of names for each row within the column. To format this into DataFrame format, we can use the\n",
    "`expand=True` flag:"
   ]
  },
  {
   "cell_type": "code",
   "execution_count": 10,
   "id": "18122d41",
   "metadata": {},
   "outputs": [
    {
     "data": {
      "text/html": [
       "<div>\n",
       "<style scoped>\n",
       "    .dataframe tbody tr th:only-of-type {\n",
       "        vertical-align: middle;\n",
       "    }\n",
       "\n",
       "    .dataframe tbody tr th {\n",
       "        vertical-align: top;\n",
       "    }\n",
       "\n",
       "    .dataframe thead th {\n",
       "        text-align: right;\n",
       "    }\n",
       "</style>\n",
       "<table border=\"1\" class=\"dataframe\">\n",
       "  <thead>\n",
       "    <tr style=\"text-align: right;\">\n",
       "      <th></th>\n",
       "      <th>0</th>\n",
       "      <th>1</th>\n",
       "    </tr>\n",
       "  </thead>\n",
       "  <tbody>\n",
       "    <tr>\n",
       "      <th>0</th>\n",
       "      <td>Adam</td>\n",
       "      <td>Smith</td>\n",
       "    </tr>\n",
       "    <tr>\n",
       "      <th>1</th>\n",
       "      <td>John</td>\n",
       "      <td>Doe</td>\n",
       "    </tr>\n",
       "    <tr>\n",
       "      <th>2</th>\n",
       "      <td>Jake</td>\n",
       "      <td>Doe</td>\n",
       "    </tr>\n",
       "    <tr>\n",
       "      <th>3</th>\n",
       "      <td>Jane</td>\n",
       "      <td>Snow</td>\n",
       "    </tr>\n",
       "  </tbody>\n",
       "</table>\n",
       "</div>"
      ],
      "text/plain": [
       "      0      1\n",
       "0  Adam  Smith\n",
       "1  John    Doe\n",
       "2  Jake    Doe\n",
       "3  Jane   Snow"
      ]
     },
     "execution_count": 10,
     "metadata": {},
     "output_type": "execute_result"
    }
   ],
   "source": [
    "people_df['Full name'].str.split(' ', expand=True)"
   ]
  },
  {
   "cell_type": "markdown",
   "id": "fda935b1",
   "metadata": {},
   "source": [
    "We can now set two new columns' names to these columns that we received, to create the desired effect that we're after:"
   ]
  },
  {
   "cell_type": "code",
   "execution_count": 11,
   "id": "cb4049fc",
   "metadata": {},
   "outputs": [
    {
     "data": {
      "text/html": [
       "<div>\n",
       "<style scoped>\n",
       "    .dataframe tbody tr th:only-of-type {\n",
       "        vertical-align: middle;\n",
       "    }\n",
       "\n",
       "    .dataframe tbody tr th {\n",
       "        vertical-align: top;\n",
       "    }\n",
       "\n",
       "    .dataframe thead th {\n",
       "        text-align: right;\n",
       "    }\n",
       "</style>\n",
       "<table border=\"1\" class=\"dataframe\">\n",
       "  <thead>\n",
       "    <tr style=\"text-align: right;\">\n",
       "      <th></th>\n",
       "      <th>Email</th>\n",
       "      <th>Full name</th>\n",
       "      <th>First</th>\n",
       "      <th>Last</th>\n",
       "    </tr>\n",
       "  </thead>\n",
       "  <tbody>\n",
       "    <tr>\n",
       "      <th>0</th>\n",
       "      <td>adamsmith@gmail.com</td>\n",
       "      <td>Adam Smith</td>\n",
       "      <td>Adam</td>\n",
       "      <td>Smith</td>\n",
       "    </tr>\n",
       "    <tr>\n",
       "      <th>1</th>\n",
       "      <td>johndoe@notreally.com</td>\n",
       "      <td>John Doe</td>\n",
       "      <td>John</td>\n",
       "      <td>Doe</td>\n",
       "    </tr>\n",
       "    <tr>\n",
       "      <th>2</th>\n",
       "      <td>jakedoe@notawebsite.org</td>\n",
       "      <td>Jake Doe</td>\n",
       "      <td>Jake</td>\n",
       "      <td>Doe</td>\n",
       "    </tr>\n",
       "    <tr>\n",
       "      <th>3</th>\n",
       "      <td>janesnow@mail.com</td>\n",
       "      <td>Jane Snow</td>\n",
       "      <td>Jane</td>\n",
       "      <td>Snow</td>\n",
       "    </tr>\n",
       "  </tbody>\n",
       "</table>\n",
       "</div>"
      ],
      "text/plain": [
       "                     Email   Full name First   Last\n",
       "0      adamsmith@gmail.com  Adam Smith  Adam  Smith\n",
       "1    johndoe@notreally.com    John Doe  John    Doe\n",
       "2  jakedoe@notawebsite.org    Jake Doe  Jake    Doe\n",
       "3        janesnow@mail.com   Jane Snow  Jane   Snow"
      ]
     },
     "execution_count": 11,
     "metadata": {},
     "output_type": "execute_result"
    }
   ],
   "source": [
    "people_df[['First', 'Last']] = people_df['Full name'].str.split(' ', expand=True)\n",
    "people_df"
   ]
  },
  {
   "cell_type": "markdown",
   "id": "9c8bc73b",
   "metadata": {},
   "source": [
    "**Remember: We must use 2 sets of square brackets to access multiple columns at once!**"
   ]
  },
  {
   "cell_type": "markdown",
   "id": "79cdd52e",
   "metadata": {},
   "source": [
    "Now, let's look at how we can add rows to our DataFrame. There are multiple objectives we may want to achieve here:\n",
    "\n",
    "- Adding a single row to our DataFrame.\n",
    "- Combining DataFrames by appending the rows of one to the end of the other."
   ]
  },
  {
   "cell_type": "markdown",
   "id": "8e7f771b",
   "metadata": {},
   "source": [
    "To add a single row to our DataFrame, we can use the `loc` method within Pandas by passing a dictionary containing the values for select columns, or a list of all columns' values in order. for instance:"
   ]
  },
  {
   "cell_type": "code",
   "execution_count": 12,
   "id": "77e4ecb6",
   "metadata": {},
   "outputs": [],
   "source": [
    "people_df.loc[len(people_df.index)] = {'Email': \"hermionegranger@hogwarts.magic\", 'Full name': 'Hermione Granger'}"
   ]
  },
  {
   "cell_type": "code",
   "execution_count": 13,
   "id": "78c54966",
   "metadata": {},
   "outputs": [
    {
     "data": {
      "text/html": [
       "<div>\n",
       "<style scoped>\n",
       "    .dataframe tbody tr th:only-of-type {\n",
       "        vertical-align: middle;\n",
       "    }\n",
       "\n",
       "    .dataframe tbody tr th {\n",
       "        vertical-align: top;\n",
       "    }\n",
       "\n",
       "    .dataframe thead th {\n",
       "        text-align: right;\n",
       "    }\n",
       "</style>\n",
       "<table border=\"1\" class=\"dataframe\">\n",
       "  <thead>\n",
       "    <tr style=\"text-align: right;\">\n",
       "      <th></th>\n",
       "      <th>Email</th>\n",
       "      <th>Full name</th>\n",
       "      <th>First</th>\n",
       "      <th>Last</th>\n",
       "    </tr>\n",
       "  </thead>\n",
       "  <tbody>\n",
       "    <tr>\n",
       "      <th>0</th>\n",
       "      <td>adamsmith@gmail.com</td>\n",
       "      <td>Adam Smith</td>\n",
       "      <td>Adam</td>\n",
       "      <td>Smith</td>\n",
       "    </tr>\n",
       "    <tr>\n",
       "      <th>1</th>\n",
       "      <td>johndoe@notreally.com</td>\n",
       "      <td>John Doe</td>\n",
       "      <td>John</td>\n",
       "      <td>Doe</td>\n",
       "    </tr>\n",
       "    <tr>\n",
       "      <th>2</th>\n",
       "      <td>jakedoe@notawebsite.org</td>\n",
       "      <td>Jake Doe</td>\n",
       "      <td>Jake</td>\n",
       "      <td>Doe</td>\n",
       "    </tr>\n",
       "    <tr>\n",
       "      <th>3</th>\n",
       "      <td>janesnow@mail.com</td>\n",
       "      <td>Jane Snow</td>\n",
       "      <td>Jane</td>\n",
       "      <td>Snow</td>\n",
       "    </tr>\n",
       "    <tr>\n",
       "      <th>4</th>\n",
       "      <td>hermionegranger@hogwarts.magic</td>\n",
       "      <td>Hermione Granger</td>\n",
       "      <td>NaN</td>\n",
       "      <td>NaN</td>\n",
       "    </tr>\n",
       "  </tbody>\n",
       "</table>\n",
       "</div>"
      ],
      "text/plain": [
       "                            Email         Full name First   Last\n",
       "0             adamsmith@gmail.com        Adam Smith  Adam  Smith\n",
       "1           johndoe@notreally.com          John Doe  John    Doe\n",
       "2         jakedoe@notawebsite.org          Jake Doe  Jake    Doe\n",
       "3               janesnow@mail.com         Jane Snow  Jane   Snow\n",
       "4  hermionegranger@hogwarts.magic  Hermione Granger   NaN    NaN"
      ]
     },
     "execution_count": 13,
     "metadata": {},
     "output_type": "execute_result"
    }
   ],
   "source": [
    "people_df"
   ]
  },
  {
   "cell_type": "markdown",
   "id": "e5080108",
   "metadata": {},
   "source": [
    "Note: Any values that we do not specfiy are assumed to be `NaN` by default."
   ]
  },
  {
   "cell_type": "markdown",
   "id": "c45e1b16",
   "metadata": {},
   "source": [
    "To concatenate another DataFrame at the end of our DataFrame, we first create a second DataFrame to concatenate:"
   ]
  },
  {
   "cell_type": "code",
   "execution_count": 14,
   "id": "025f6e49",
   "metadata": {},
   "outputs": [],
   "source": [
    "people_2 = {'First': ['Alex', 'Jordan'],\n",
    "         'Last': ['Jones', 'Pricks'],\n",
    "         'Email': ['ajones@gmail.com', 'jpricks@notreally.com'],\n",
    "           'Favorite color': ['Blue', 'Red']}\n",
    "\n",
    "new_df= pd.DataFrame(people_2)"
   ]
  },
  {
   "cell_type": "code",
   "execution_count": 15,
   "id": "c8f6f846",
   "metadata": {},
   "outputs": [
    {
     "data": {
      "text/html": [
       "<div>\n",
       "<style scoped>\n",
       "    .dataframe tbody tr th:only-of-type {\n",
       "        vertical-align: middle;\n",
       "    }\n",
       "\n",
       "    .dataframe tbody tr th {\n",
       "        vertical-align: top;\n",
       "    }\n",
       "\n",
       "    .dataframe thead th {\n",
       "        text-align: right;\n",
       "    }\n",
       "</style>\n",
       "<table border=\"1\" class=\"dataframe\">\n",
       "  <thead>\n",
       "    <tr style=\"text-align: right;\">\n",
       "      <th></th>\n",
       "      <th>First</th>\n",
       "      <th>Last</th>\n",
       "      <th>Email</th>\n",
       "      <th>Favorite color</th>\n",
       "    </tr>\n",
       "  </thead>\n",
       "  <tbody>\n",
       "    <tr>\n",
       "      <th>0</th>\n",
       "      <td>Alex</td>\n",
       "      <td>Jones</td>\n",
       "      <td>ajones@gmail.com</td>\n",
       "      <td>Blue</td>\n",
       "    </tr>\n",
       "    <tr>\n",
       "      <th>1</th>\n",
       "      <td>Jordan</td>\n",
       "      <td>Pricks</td>\n",
       "      <td>jpricks@notreally.com</td>\n",
       "      <td>Red</td>\n",
       "    </tr>\n",
       "  </tbody>\n",
       "</table>\n",
       "</div>"
      ],
      "text/plain": [
       "    First    Last                  Email Favorite color\n",
       "0    Alex   Jones       ajones@gmail.com           Blue\n",
       "1  Jordan  Pricks  jpricks@notreally.com            Red"
      ]
     },
     "execution_count": 15,
     "metadata": {},
     "output_type": "execute_result"
    }
   ],
   "source": [
    "new_df"
   ]
  },
  {
   "cell_type": "markdown",
   "id": "c6a66e9b",
   "metadata": {},
   "source": [
    "Now, we can append this new DataFrame to the original one by using the `Pandas.concat` method:"
   ]
  },
  {
   "cell_type": "code",
   "execution_count": 16,
   "id": "ea916007",
   "metadata": {},
   "outputs": [
    {
     "data": {
      "text/html": [
       "<div>\n",
       "<style scoped>\n",
       "    .dataframe tbody tr th:only-of-type {\n",
       "        vertical-align: middle;\n",
       "    }\n",
       "\n",
       "    .dataframe tbody tr th {\n",
       "        vertical-align: top;\n",
       "    }\n",
       "\n",
       "    .dataframe thead th {\n",
       "        text-align: right;\n",
       "    }\n",
       "</style>\n",
       "<table border=\"1\" class=\"dataframe\">\n",
       "  <thead>\n",
       "    <tr style=\"text-align: right;\">\n",
       "      <th></th>\n",
       "      <th>Email</th>\n",
       "      <th>Full name</th>\n",
       "      <th>First</th>\n",
       "      <th>Last</th>\n",
       "      <th>Favorite color</th>\n",
       "    </tr>\n",
       "  </thead>\n",
       "  <tbody>\n",
       "    <tr>\n",
       "      <th>0</th>\n",
       "      <td>adamsmith@gmail.com</td>\n",
       "      <td>Adam Smith</td>\n",
       "      <td>Adam</td>\n",
       "      <td>Smith</td>\n",
       "      <td>NaN</td>\n",
       "    </tr>\n",
       "    <tr>\n",
       "      <th>1</th>\n",
       "      <td>johndoe@notreally.com</td>\n",
       "      <td>John Doe</td>\n",
       "      <td>John</td>\n",
       "      <td>Doe</td>\n",
       "      <td>NaN</td>\n",
       "    </tr>\n",
       "    <tr>\n",
       "      <th>2</th>\n",
       "      <td>jakedoe@notawebsite.org</td>\n",
       "      <td>Jake Doe</td>\n",
       "      <td>Jake</td>\n",
       "      <td>Doe</td>\n",
       "      <td>NaN</td>\n",
       "    </tr>\n",
       "    <tr>\n",
       "      <th>3</th>\n",
       "      <td>janesnow@mail.com</td>\n",
       "      <td>Jane Snow</td>\n",
       "      <td>Jane</td>\n",
       "      <td>Snow</td>\n",
       "      <td>NaN</td>\n",
       "    </tr>\n",
       "    <tr>\n",
       "      <th>4</th>\n",
       "      <td>hermionegranger@hogwarts.magic</td>\n",
       "      <td>Hermione Granger</td>\n",
       "      <td>NaN</td>\n",
       "      <td>NaN</td>\n",
       "      <td>NaN</td>\n",
       "    </tr>\n",
       "    <tr>\n",
       "      <th>0</th>\n",
       "      <td>ajones@gmail.com</td>\n",
       "      <td>NaN</td>\n",
       "      <td>Alex</td>\n",
       "      <td>Jones</td>\n",
       "      <td>Blue</td>\n",
       "    </tr>\n",
       "    <tr>\n",
       "      <th>1</th>\n",
       "      <td>jpricks@notreally.com</td>\n",
       "      <td>NaN</td>\n",
       "      <td>Jordan</td>\n",
       "      <td>Pricks</td>\n",
       "      <td>Red</td>\n",
       "    </tr>\n",
       "  </tbody>\n",
       "</table>\n",
       "</div>"
      ],
      "text/plain": [
       "                            Email         Full name   First    Last  \\\n",
       "0             adamsmith@gmail.com        Adam Smith    Adam   Smith   \n",
       "1           johndoe@notreally.com          John Doe    John     Doe   \n",
       "2         jakedoe@notawebsite.org          Jake Doe    Jake     Doe   \n",
       "3               janesnow@mail.com         Jane Snow    Jane    Snow   \n",
       "4  hermionegranger@hogwarts.magic  Hermione Granger     NaN     NaN   \n",
       "0                ajones@gmail.com               NaN    Alex   Jones   \n",
       "1           jpricks@notreally.com               NaN  Jordan  Pricks   \n",
       "\n",
       "  Favorite color  \n",
       "0            NaN  \n",
       "1            NaN  \n",
       "2            NaN  \n",
       "3            NaN  \n",
       "4            NaN  \n",
       "0           Blue  \n",
       "1            Red  "
      ]
     },
     "execution_count": 16,
     "metadata": {},
     "output_type": "execute_result"
    }
   ],
   "source": [
    "pd.concat([people_df, new_df])"
   ]
  },
  {
   "cell_type": "markdown",
   "id": "bc98c230",
   "metadata": {},
   "source": [
    "**Note: Since `Pandas.concat()` only views the proposed updates and has no inplace flag, we would have to update the variable of the DataFrame we want to lengthen if we want the changes to take place.**\n",
    "\n",
    "Alternatively, we can of course store the results in a new variable:"
   ]
  },
  {
   "cell_type": "code",
   "execution_count": 17,
   "id": "080a1888",
   "metadata": {},
   "outputs": [
    {
     "data": {
      "text/html": [
       "<div>\n",
       "<style scoped>\n",
       "    .dataframe tbody tr th:only-of-type {\n",
       "        vertical-align: middle;\n",
       "    }\n",
       "\n",
       "    .dataframe tbody tr th {\n",
       "        vertical-align: top;\n",
       "    }\n",
       "\n",
       "    .dataframe thead th {\n",
       "        text-align: right;\n",
       "    }\n",
       "</style>\n",
       "<table border=\"1\" class=\"dataframe\">\n",
       "  <thead>\n",
       "    <tr style=\"text-align: right;\">\n",
       "      <th></th>\n",
       "      <th>First</th>\n",
       "      <th>Last</th>\n",
       "      <th>Email</th>\n",
       "      <th>Favorite color</th>\n",
       "      <th>Full name</th>\n",
       "    </tr>\n",
       "  </thead>\n",
       "  <tbody>\n",
       "    <tr>\n",
       "      <th>0</th>\n",
       "      <td>Alex</td>\n",
       "      <td>Jones</td>\n",
       "      <td>ajones@gmail.com</td>\n",
       "      <td>Blue</td>\n",
       "      <td>NaN</td>\n",
       "    </tr>\n",
       "    <tr>\n",
       "      <th>1</th>\n",
       "      <td>Jordan</td>\n",
       "      <td>Pricks</td>\n",
       "      <td>jpricks@notreally.com</td>\n",
       "      <td>Red</td>\n",
       "      <td>NaN</td>\n",
       "    </tr>\n",
       "    <tr>\n",
       "      <th>2</th>\n",
       "      <td>Adam</td>\n",
       "      <td>Smith</td>\n",
       "      <td>adamsmith@gmail.com</td>\n",
       "      <td>NaN</td>\n",
       "      <td>Adam Smith</td>\n",
       "    </tr>\n",
       "    <tr>\n",
       "      <th>3</th>\n",
       "      <td>John</td>\n",
       "      <td>Doe</td>\n",
       "      <td>johndoe@notreally.com</td>\n",
       "      <td>NaN</td>\n",
       "      <td>John Doe</td>\n",
       "    </tr>\n",
       "    <tr>\n",
       "      <th>4</th>\n",
       "      <td>Jake</td>\n",
       "      <td>Doe</td>\n",
       "      <td>jakedoe@notawebsite.org</td>\n",
       "      <td>NaN</td>\n",
       "      <td>Jake Doe</td>\n",
       "    </tr>\n",
       "    <tr>\n",
       "      <th>5</th>\n",
       "      <td>Jane</td>\n",
       "      <td>Snow</td>\n",
       "      <td>janesnow@mail.com</td>\n",
       "      <td>NaN</td>\n",
       "      <td>Jane Snow</td>\n",
       "    </tr>\n",
       "    <tr>\n",
       "      <th>6</th>\n",
       "      <td>NaN</td>\n",
       "      <td>NaN</td>\n",
       "      <td>hermionegranger@hogwarts.magic</td>\n",
       "      <td>NaN</td>\n",
       "      <td>Hermione Granger</td>\n",
       "    </tr>\n",
       "  </tbody>\n",
       "</table>\n",
       "</div>"
      ],
      "text/plain": [
       "    First    Last                           Email Favorite color  \\\n",
       "0    Alex   Jones                ajones@gmail.com           Blue   \n",
       "1  Jordan  Pricks           jpricks@notreally.com            Red   \n",
       "2    Adam   Smith             adamsmith@gmail.com            NaN   \n",
       "3    John     Doe           johndoe@notreally.com            NaN   \n",
       "4    Jake     Doe         jakedoe@notawebsite.org            NaN   \n",
       "5    Jane    Snow               janesnow@mail.com            NaN   \n",
       "6     NaN     NaN  hermionegranger@hogwarts.magic            NaN   \n",
       "\n",
       "          Full name  \n",
       "0               NaN  \n",
       "1               NaN  \n",
       "2        Adam Smith  \n",
       "3          John Doe  \n",
       "4          Jake Doe  \n",
       "5         Jane Snow  \n",
       "6  Hermione Granger  "
      ]
     },
     "execution_count": 17,
     "metadata": {},
     "output_type": "execute_result"
    }
   ],
   "source": [
    "big_df = pd.concat([new_df, people_df], ignore_index=True)\n",
    "big_df"
   ]
  },
  {
   "cell_type": "markdown",
   "id": "8ed8b185",
   "metadata": {},
   "source": [
    "**Note: The resulting DataFrame takes the format (order of columns) of the FIRST DataFrame within the list of DataFrames passed to the Pandas.concat method. It also has all columns from all participaing DataFrames, with any missing data being set to NaN.**\n",
    "\n",
    "**Note: Not using `ignore_index=True` results in a DataFrame with multiple rows having the same indices, as each participating \n",
    "DataFrame keeps its original indices!**"
   ]
  },
  {
   "cell_type": "markdown",
   "id": "3d46fd2c",
   "metadata": {},
   "source": [
    "Lastly, let's look at removing rows in Pandas. For that, we can also use the `drop` method, but passing the index of the row we want to remove:"
   ]
  },
  {
   "cell_type": "code",
   "execution_count": 18,
   "id": "87a1aef6",
   "metadata": {},
   "outputs": [
    {
     "data": {
      "text/html": [
       "<div>\n",
       "<style scoped>\n",
       "    .dataframe tbody tr th:only-of-type {\n",
       "        vertical-align: middle;\n",
       "    }\n",
       "\n",
       "    .dataframe tbody tr th {\n",
       "        vertical-align: top;\n",
       "    }\n",
       "\n",
       "    .dataframe thead th {\n",
       "        text-align: right;\n",
       "    }\n",
       "</style>\n",
       "<table border=\"1\" class=\"dataframe\">\n",
       "  <thead>\n",
       "    <tr style=\"text-align: right;\">\n",
       "      <th></th>\n",
       "      <th>First</th>\n",
       "      <th>Last</th>\n",
       "      <th>Email</th>\n",
       "      <th>Favorite color</th>\n",
       "      <th>Full name</th>\n",
       "    </tr>\n",
       "  </thead>\n",
       "  <tbody>\n",
       "    <tr>\n",
       "      <th>0</th>\n",
       "      <td>Alex</td>\n",
       "      <td>Jones</td>\n",
       "      <td>ajones@gmail.com</td>\n",
       "      <td>Blue</td>\n",
       "      <td>NaN</td>\n",
       "    </tr>\n",
       "    <tr>\n",
       "      <th>1</th>\n",
       "      <td>Jordan</td>\n",
       "      <td>Pricks</td>\n",
       "      <td>jpricks@notreally.com</td>\n",
       "      <td>Red</td>\n",
       "      <td>NaN</td>\n",
       "    </tr>\n",
       "    <tr>\n",
       "      <th>2</th>\n",
       "      <td>Adam</td>\n",
       "      <td>Smith</td>\n",
       "      <td>adamsmith@gmail.com</td>\n",
       "      <td>NaN</td>\n",
       "      <td>Adam Smith</td>\n",
       "    </tr>\n",
       "    <tr>\n",
       "      <th>3</th>\n",
       "      <td>John</td>\n",
       "      <td>Doe</td>\n",
       "      <td>johndoe@notreally.com</td>\n",
       "      <td>NaN</td>\n",
       "      <td>John Doe</td>\n",
       "    </tr>\n",
       "    <tr>\n",
       "      <th>4</th>\n",
       "      <td>Jake</td>\n",
       "      <td>Doe</td>\n",
       "      <td>jakedoe@notawebsite.org</td>\n",
       "      <td>NaN</td>\n",
       "      <td>Jake Doe</td>\n",
       "    </tr>\n",
       "    <tr>\n",
       "      <th>6</th>\n",
       "      <td>NaN</td>\n",
       "      <td>NaN</td>\n",
       "      <td>hermionegranger@hogwarts.magic</td>\n",
       "      <td>NaN</td>\n",
       "      <td>Hermione Granger</td>\n",
       "    </tr>\n",
       "  </tbody>\n",
       "</table>\n",
       "</div>"
      ],
      "text/plain": [
       "    First    Last                           Email Favorite color  \\\n",
       "0    Alex   Jones                ajones@gmail.com           Blue   \n",
       "1  Jordan  Pricks           jpricks@notreally.com            Red   \n",
       "2    Adam   Smith             adamsmith@gmail.com            NaN   \n",
       "3    John     Doe           johndoe@notreally.com            NaN   \n",
       "4    Jake     Doe         jakedoe@notawebsite.org            NaN   \n",
       "6     NaN     NaN  hermionegranger@hogwarts.magic            NaN   \n",
       "\n",
       "          Full name  \n",
       "0               NaN  \n",
       "1               NaN  \n",
       "2        Adam Smith  \n",
       "3          John Doe  \n",
       "4          Jake Doe  \n",
       "6  Hermione Granger  "
      ]
     },
     "execution_count": 18,
     "metadata": {},
     "output_type": "execute_result"
    }
   ],
   "source": [
    "big_df.drop(5, inplace=True)\n",
    "big_df"
   ]
  },
  {
   "cell_type": "markdown",
   "id": "e77775ca",
   "metadata": {},
   "source": [
    "If we want to drop multiple rows at a time which meet a certain criteria or satisfy a certain condition, we can do that using loc as we saw before (?), but we can also do that using `drop` with a filter.\n",
    "\n",
    "For example, let's say we want to remove every row with the last name \"Doe\" from our DataFrame using `drop`:"
   ]
  },
  {
   "cell_type": "code",
   "execution_count": 23,
   "id": "c65a0716",
   "metadata": {},
   "outputs": [
    {
     "data": {
      "text/html": [
       "<div>\n",
       "<style scoped>\n",
       "    .dataframe tbody tr th:only-of-type {\n",
       "        vertical-align: middle;\n",
       "    }\n",
       "\n",
       "    .dataframe tbody tr th {\n",
       "        vertical-align: top;\n",
       "    }\n",
       "\n",
       "    .dataframe thead th {\n",
       "        text-align: right;\n",
       "    }\n",
       "</style>\n",
       "<table border=\"1\" class=\"dataframe\">\n",
       "  <thead>\n",
       "    <tr style=\"text-align: right;\">\n",
       "      <th></th>\n",
       "      <th>First</th>\n",
       "      <th>Last</th>\n",
       "      <th>Email</th>\n",
       "      <th>Favorite color</th>\n",
       "      <th>Full name</th>\n",
       "    </tr>\n",
       "  </thead>\n",
       "  <tbody>\n",
       "    <tr>\n",
       "      <th>0</th>\n",
       "      <td>Alex</td>\n",
       "      <td>Jones</td>\n",
       "      <td>ajones@gmail.com</td>\n",
       "      <td>Blue</td>\n",
       "      <td>NaN</td>\n",
       "    </tr>\n",
       "    <tr>\n",
       "      <th>1</th>\n",
       "      <td>Jordan</td>\n",
       "      <td>Pricks</td>\n",
       "      <td>jpricks@notreally.com</td>\n",
       "      <td>Red</td>\n",
       "      <td>NaN</td>\n",
       "    </tr>\n",
       "    <tr>\n",
       "      <th>2</th>\n",
       "      <td>Adam</td>\n",
       "      <td>Smith</td>\n",
       "      <td>adamsmith@gmail.com</td>\n",
       "      <td>NaN</td>\n",
       "      <td>Adam Smith</td>\n",
       "    </tr>\n",
       "    <tr>\n",
       "      <th>6</th>\n",
       "      <td>NaN</td>\n",
       "      <td>NaN</td>\n",
       "      <td>hermionegranger@hogwarts.magic</td>\n",
       "      <td>NaN</td>\n",
       "      <td>Hermione Granger</td>\n",
       "    </tr>\n",
       "  </tbody>\n",
       "</table>\n",
       "</div>"
      ],
      "text/plain": [
       "    First    Last                           Email Favorite color  \\\n",
       "0    Alex   Jones                ajones@gmail.com           Blue   \n",
       "1  Jordan  Pricks           jpricks@notreally.com            Red   \n",
       "2    Adam   Smith             adamsmith@gmail.com            NaN   \n",
       "6     NaN     NaN  hermionegranger@hogwarts.magic            NaN   \n",
       "\n",
       "          Full name  \n",
       "0               NaN  \n",
       "1               NaN  \n",
       "2        Adam Smith  \n",
       "6  Hermione Granger  "
      ]
     },
     "execution_count": 23,
     "metadata": {},
     "output_type": "execute_result"
    }
   ],
   "source": [
    "filter_df = big_df['Last'] == 'Doe'\n",
    "big_df.drop(index= big_df[filter_df].index) "
   ]
  },
  {
   "cell_type": "markdown",
   "id": "8a3af3ab",
   "metadata": {},
   "source": [
    "Remember: With `drop`, the `inplace=True` flag has to be passed for the effects to take place."
   ]
  },
  {
   "cell_type": "markdown",
   "id": "43f66d41",
   "metadata": {},
   "source": [
    "One other handy function we can use to drop rows - courtesy of Pincecone's James Briggs - is the `drop_duplicates` function, which we'll only hint at here. The use of this function would not make sense for this dataset, however, as there are no duplicates in this dataset.\n",
    "\n",
    "Suppose, however, that we only wanted to keep 1 example of a given attribute/feature. Only One \"Kevin\" from the Stack Overflow dataset, for example, or only one developer from each of the countries represented in the dataset and no more. We could do the following to implement that:"
   ]
  },
  {
   "cell_type": "code",
   "execution_count": 1,
   "id": "bbf225d0",
   "metadata": {},
   "outputs": [],
   "source": [
    "# df.drop_duplicates(subset=[\"column name\"], keep=\"first\")"
   ]
  },
  {
   "cell_type": "markdown",
   "id": "23061a64",
   "metadata": {},
   "source": [
    "As with many other Pandas methods, `drop_duplicates` needs `inplace=True` to be specified for the changes to take place, otherwise, the changes that we see would only be a preview."
   ]
  },
  {
   "cell_type": "code",
   "execution_count": null,
   "id": "0a53f16a",
   "metadata": {},
   "outputs": [],
   "source": []
  }
 ],
 "metadata": {
  "kernelspec": {
   "display_name": "Python 3 (ipykernel)",
   "language": "python",
   "name": "python3"
  },
  "language_info": {
   "codemirror_mode": {
    "name": "ipython",
    "version": 3
   },
   "file_extension": ".py",
   "mimetype": "text/x-python",
   "name": "python",
   "nbconvert_exporter": "python",
   "pygments_lexer": "ipython3",
   "version": "3.8.5"
  }
 },
 "nbformat": 4,
 "nbformat_minor": 5
}
