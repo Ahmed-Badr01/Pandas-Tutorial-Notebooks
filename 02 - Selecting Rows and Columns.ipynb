{
 "cells": [
  {
   "cell_type": "code",
   "execution_count": 1,
   "id": "3787335d",
   "metadata": {},
   "outputs": [],
   "source": [
    "import pandas as pd"
   ]
  },
  {
   "cell_type": "markdown",
   "id": "a0e38cd5",
   "metadata": {},
   "source": [
    "Previously, we looked at how we can load CSV files using Pandas' DataFrames. But what exactly is a DataFrame?\n",
    "\n",
    "Let's start by looking at how we could create something similar to a DataFrame wihout using Pandas, but using only Python:"
   ]
  },
  {
   "cell_type": "code",
   "execution_count": 8,
   "id": "2e293ce6",
   "metadata": {},
   "outputs": [],
   "source": [
    "person = {'first_name': 'Adam',\n",
    "         'last_name': 'Smith',\n",
    "         'email': 'AdamSmith@gmail.com'}"
   ]
  },
  {
   "cell_type": "markdown",
   "id": "3b995dfe",
   "metadata": {},
   "source": [
    "In the above dictionary, we can already declare some pieces of information, i.e. dictionary values, and store them under unique keywords, i.e. dictionary keys. This is similar to the column to row functionality in a DataFrame, where a key would map to a column and a value would map to a row.\n",
    "\n",
    "If we want to expand this example to include multiple rows, we could store muliple values under one key in a Python dictionay, using lists:"
   ]
  },
  {
   "cell_type": "code",
   "execution_count": 21,
   "id": "0f6aeeb5",
   "metadata": {},
   "outputs": [],
   "source": [
    "people = {'First name': ['Adam', 'Ahmed', 'Jake'],\n",
    "         'Last name': ['Smith', 'Badr', 'Doe'],\n",
    "         'Email': ['adamsmith@gmail.com', 'ahmedbadr@notreally.com', 'jakedoe@donotreadthis.org']}"
   ]
  },
  {
   "cell_type": "markdown",
   "id": "a317e93e",
   "metadata": {},
   "source": [
    "In this example, we can access the value(s) stored within a key by calling that specific key, e.g.:"
   ]
  },
  {
   "cell_type": "code",
   "execution_count": 22,
   "id": "c71921c5",
   "metadata": {},
   "outputs": [
    {
     "data": {
      "text/plain": [
       "['adamsmith@gmail.com', 'ahmedbadr@notreally.com', 'jakedoe@donotreadthis.org']"
      ]
     },
     "execution_count": 22,
     "metadata": {},
     "output_type": "execute_result"
    }
   ],
   "source": [
    "people['Email']"
   ]
  },
  {
   "cell_type": "markdown",
   "id": "08da19a3",
   "metadata": {},
   "source": [
    "A Dataframe is similar to the dictionary above, except it provides more functionality, as we're going to explore.\n",
    "\n",
    "We can actually turn the dictionary above into a DataFrame, using:"
   ]
  },
  {
   "cell_type": "code",
   "execution_count": 17,
   "id": "28e1ac4d",
   "metadata": {},
   "outputs": [],
   "source": [
    "people_df = pd.DataFrame(people)"
   ]
  },
  {
   "cell_type": "code",
   "execution_count": 18,
   "id": "548c4ff8",
   "metadata": {},
   "outputs": [
    {
     "data": {
      "text/html": [
       "<div>\n",
       "<style scoped>\n",
       "    .dataframe tbody tr th:only-of-type {\n",
       "        vertical-align: middle;\n",
       "    }\n",
       "\n",
       "    .dataframe tbody tr th {\n",
       "        vertical-align: top;\n",
       "    }\n",
       "\n",
       "    .dataframe thead th {\n",
       "        text-align: right;\n",
       "    }\n",
       "</style>\n",
       "<table border=\"1\" class=\"dataframe\">\n",
       "  <thead>\n",
       "    <tr style=\"text-align: right;\">\n",
       "      <th></th>\n",
       "      <th>First name</th>\n",
       "      <th>Last name</th>\n",
       "      <th>Email</th>\n",
       "    </tr>\n",
       "  </thead>\n",
       "  <tbody>\n",
       "    <tr>\n",
       "      <th>0</th>\n",
       "      <td>Adam</td>\n",
       "      <td>Smith</td>\n",
       "      <td>adamsmith@gmail.com</td>\n",
       "    </tr>\n",
       "    <tr>\n",
       "      <th>1</th>\n",
       "      <td>Ahmed</td>\n",
       "      <td>Badr</td>\n",
       "      <td>ahmedbadr@notreally.com</td>\n",
       "    </tr>\n",
       "    <tr>\n",
       "      <th>2</th>\n",
       "      <td>Jake</td>\n",
       "      <td>Doe</td>\n",
       "      <td>jakedoe@whydoyouevencaretoreadthis.org</td>\n",
       "    </tr>\n",
       "  </tbody>\n",
       "</table>\n",
       "</div>"
      ],
      "text/plain": [
       "  First name Last name                                   Email\n",
       "0       Adam     Smith                     adamsmith@gmail.com\n",
       "1      Ahmed      Badr                 ahmedbadr@notreally.com\n",
       "2       Jake       Doe  jakedoe@whydoyouevencaretoreadthis.org"
      ]
     },
     "execution_count": 18,
     "metadata": {},
     "output_type": "execute_result"
    }
   ],
   "source": [
    "people_df"
   ]
  },
  {
   "cell_type": "markdown",
   "id": "4b58038d",
   "metadata": {},
   "source": [
    "Similar to how one accesses the value(s) stored within a dictionary key, we can also call a column in Pandas using similar syntax.\n",
    "\n",
    "To view the 'Email' column in our DataFrame, we use: "
   ]
  },
  {
   "cell_type": "code",
   "execution_count": 23,
   "id": "5b255ae2",
   "metadata": {},
   "outputs": [
    {
     "data": {
      "text/plain": [
       "0                       adamsmith@gmail.com\n",
       "1                   ahmedbadr@notreally.com\n",
       "2    jakedoe@whydoyouevencaretoreadthis.org\n",
       "Name: Email, dtype: object"
      ]
     },
     "execution_count": 23,
     "metadata": {},
     "output_type": "execute_result"
    }
   ],
   "source": [
    "people_df['Email']"
   ]
  },
  {
   "cell_type": "markdown",
   "id": "74491206",
   "metadata": {},
   "source": [
    "An alternative way to access the same column is using the dot notation, as in:"
   ]
  },
  {
   "cell_type": "code",
   "execution_count": 25,
   "id": "a06b2a2f",
   "metadata": {},
   "outputs": [
    {
     "data": {
      "text/plain": [
       "0                       adamsmith@gmail.com\n",
       "1                   ahmedbadr@notreally.com\n",
       "2    jakedoe@whydoyouevencaretoreadthis.org\n",
       "Name: Email, dtype: object"
      ]
     },
     "execution_count": 25,
     "metadata": {},
     "output_type": "execute_result"
    }
   ],
   "source": [
    "people_df.Email"
   ]
  },
  {
   "cell_type": "markdown",
   "id": "7699cfb2",
   "metadata": {},
   "source": [
    "Note: Although both the bracket notation and the dot notation are viable options for accessing columns in Pandas, it is highly recommended that you stick to the bracket notation, as it avoids the errors that could arise from having one of the columns sharing the name of a DataFrame method or attribute.\n",
    "\n",
    "The dot notation is also able to access columns with spaces in their names, which means using it would make the syntax within a project more consistent."
   ]
  },
  {
   "cell_type": "markdown",
   "id": "cfc1f759",
   "metadata": {},
   "source": [
    "**Note: Although the above example shows there are similarities between a DataFrame and a Python dictionary, we must remember that a DataFrame is much more functional than a dictionary. It does consist of rows and columns, but it is not simply a Python dictionary.**"
   ]
  },
  {
   "cell_type": "markdown",
   "id": "a233ff13",
   "metadata": {},
   "source": [
    "Let's explore what a DataFrame consists of, by examining the data type of the single column we just pulled:"
   ]
  },
  {
   "cell_type": "code",
   "execution_count": 24,
   "id": "9390aa5f",
   "metadata": {},
   "outputs": [
    {
     "data": {
      "text/plain": [
       "pandas.core.series.Series"
      ]
     },
     "execution_count": 24,
     "metadata": {},
     "output_type": "execute_result"
    }
   ],
   "source": [
    "type(people_df['Email'])"
   ]
  },
  {
   "cell_type": "markdown",
   "id": "f52b05d0",
   "metadata": {},
   "source": [
    "A 'Series' is defined as a one dimensional array of data. A DataFrame is a collection/container of Series objects, where each Series represents a column."
   ]
  },
  {
   "cell_type": "markdown",
   "id": "a238c8d0",
   "metadata": {},
   "source": [
    "Now that we know how to access a single column, let's look at how we access multiple columns at once.\n",
    "\n",
    "We use the bracket notation for that as well, and we pass **a list** of the columns we want to call/view, in order:"
   ]
  },
  {
   "cell_type": "code",
   "execution_count": 26,
   "id": "44ce416a",
   "metadata": {},
   "outputs": [
    {
     "data": {
      "text/html": [
       "<div>\n",
       "<style scoped>\n",
       "    .dataframe tbody tr th:only-of-type {\n",
       "        vertical-align: middle;\n",
       "    }\n",
       "\n",
       "    .dataframe tbody tr th {\n",
       "        vertical-align: top;\n",
       "    }\n",
       "\n",
       "    .dataframe thead th {\n",
       "        text-align: right;\n",
       "    }\n",
       "</style>\n",
       "<table border=\"1\" class=\"dataframe\">\n",
       "  <thead>\n",
       "    <tr style=\"text-align: right;\">\n",
       "      <th></th>\n",
       "      <th>Email</th>\n",
       "      <th>First name</th>\n",
       "    </tr>\n",
       "  </thead>\n",
       "  <tbody>\n",
       "    <tr>\n",
       "      <th>0</th>\n",
       "      <td>adamsmith@gmail.com</td>\n",
       "      <td>Adam</td>\n",
       "    </tr>\n",
       "    <tr>\n",
       "      <th>1</th>\n",
       "      <td>ahmedbadr@notreally.com</td>\n",
       "      <td>Ahmed</td>\n",
       "    </tr>\n",
       "    <tr>\n",
       "      <th>2</th>\n",
       "      <td>jakedoe@whydoyouevencaretoreadthis.org</td>\n",
       "      <td>Jake</td>\n",
       "    </tr>\n",
       "  </tbody>\n",
       "</table>\n",
       "</div>"
      ],
      "text/plain": [
       "                                    Email First name\n",
       "0                     adamsmith@gmail.com       Adam\n",
       "1                 ahmedbadr@notreally.com      Ahmed\n",
       "2  jakedoe@whydoyouevencaretoreadthis.org       Jake"
      ]
     },
     "execution_count": 26,
     "metadata": {},
     "output_type": "execute_result"
    }
   ],
   "source": [
    "people_df[['Email', 'First name']]"
   ]
  },
  {
   "cell_type": "markdown",
   "id": "f726e96b",
   "metadata": {},
   "source": [
    "Note: The above table is no longer a Series! As a Series is a single column. Instead, the above table is a filtered DataFrame.\n",
    "\n",
    "Note: Changing the order of columns while calling them determins how they're ordered in a the resulting DataFrame."
   ]
  },
  {
   "cell_type": "markdown",
   "id": "9e425d3c",
   "metadata": {},
   "source": [
    "We can view all columns at once, by using:"
   ]
  },
  {
   "cell_type": "code",
   "execution_count": 27,
   "id": "eb41e3f9",
   "metadata": {},
   "outputs": [
    {
     "data": {
      "text/plain": [
       "Index(['First name', 'Last name', 'Email'], dtype='object')"
      ]
     },
     "execution_count": 27,
     "metadata": {},
     "output_type": "execute_result"
    }
   ],
   "source": [
    "people_df.columns"
   ]
  },
  {
   "cell_type": "markdown",
   "id": "9b67d851",
   "metadata": {},
   "source": [
    "Now that we've seen how we can call a single column or multiple columns, let's look at calling specific rows.\n",
    "\n",
    "For that, we can use either the **loc**ation function, loc, or the **i**nteger **loc**ation function, iloc.\n",
    "\n",
    "\n",
    "For the few simple uses we introduce in this notebook, both functions will look very similar. This will change in the next notebook as we explore indexing in details."
   ]
  },
  {
   "cell_type": "markdown",
   "id": "d95ce2aa",
   "metadata": {},
   "source": [
    "To call a single row using iloc:"
   ]
  },
  {
   "cell_type": "code",
   "execution_count": 31,
   "id": "e14b9aeb",
   "metadata": {},
   "outputs": [
    {
     "data": {
      "text/plain": [
       "First name                                      Jake\n",
       "Last name                                        Doe\n",
       "Email         jakedoe@whydoyouevencaretoreadthis.org\n",
       "Name: 2, dtype: object"
      ]
     },
     "execution_count": 31,
     "metadata": {},
     "output_type": "execute_result"
    }
   ],
   "source": [
    "people_df.iloc[2]"
   ]
  },
  {
   "cell_type": "markdown",
   "id": "8e8c35af",
   "metadata": {},
   "source": [
    "As we see in the above example, calling row number 2 calls the 3rd row, as the numbering convention starts with 0. We receive, therefore, a Series cosisting of all columns of the row with the index '2'.\n",
    "\n",
    "Note: The index in the example above is the column names."
   ]
  },
  {
   "cell_type": "markdown",
   "id": "31e6506b",
   "metadata": {},
   "source": [
    "Much Like we did with columns, we can access multiple rows at once by passing **a list** of indices in the desired order to iloc:"
   ]
  },
  {
   "cell_type": "code",
   "execution_count": 33,
   "id": "fa497cb3",
   "metadata": {},
   "outputs": [
    {
     "data": {
      "text/html": [
       "<div>\n",
       "<style scoped>\n",
       "    .dataframe tbody tr th:only-of-type {\n",
       "        vertical-align: middle;\n",
       "    }\n",
       "\n",
       "    .dataframe tbody tr th {\n",
       "        vertical-align: top;\n",
       "    }\n",
       "\n",
       "    .dataframe thead th {\n",
       "        text-align: right;\n",
       "    }\n",
       "</style>\n",
       "<table border=\"1\" class=\"dataframe\">\n",
       "  <thead>\n",
       "    <tr style=\"text-align: right;\">\n",
       "      <th></th>\n",
       "      <th>First name</th>\n",
       "      <th>Last name</th>\n",
       "      <th>Email</th>\n",
       "    </tr>\n",
       "  </thead>\n",
       "  <tbody>\n",
       "    <tr>\n",
       "      <th>2</th>\n",
       "      <td>Jake</td>\n",
       "      <td>Doe</td>\n",
       "      <td>jakedoe@whydoyouevencaretoreadthis.org</td>\n",
       "    </tr>\n",
       "    <tr>\n",
       "      <th>0</th>\n",
       "      <td>Adam</td>\n",
       "      <td>Smith</td>\n",
       "      <td>adamsmith@gmail.com</td>\n",
       "    </tr>\n",
       "  </tbody>\n",
       "</table>\n",
       "</div>"
      ],
      "text/plain": [
       "  First name Last name                                   Email\n",
       "2       Jake       Doe  jakedoe@whydoyouevencaretoreadthis.org\n",
       "0       Adam     Smith                     adamsmith@gmail.com"
      ]
     },
     "execution_count": 33,
     "metadata": {},
     "output_type": "execute_result"
    }
   ],
   "source": [
    "people_df.iloc[[2, 0]]"
   ]
  },
  {
   "cell_type": "markdown",
   "id": "525d9f01",
   "metadata": {},
   "source": [
    "Once again, we receive a filtered DataFrame with the rows we called, in the ordered we called them."
   ]
  },
  {
   "cell_type": "markdown",
   "id": "a4321257",
   "metadata": {},
   "source": [
    "With the loc and iloc functions, we can specify the columns we would like to call as well, by passing them as a second argument after the list of rows we pass. For example:"
   ]
  },
  {
   "cell_type": "code",
   "execution_count": 34,
   "id": "2fe2e1fe",
   "metadata": {},
   "outputs": [
    {
     "data": {
      "text/html": [
       "<div>\n",
       "<style scoped>\n",
       "    .dataframe tbody tr th:only-of-type {\n",
       "        vertical-align: middle;\n",
       "    }\n",
       "\n",
       "    .dataframe tbody tr th {\n",
       "        vertical-align: top;\n",
       "    }\n",
       "\n",
       "    .dataframe thead th {\n",
       "        text-align: right;\n",
       "    }\n",
       "</style>\n",
       "<table border=\"1\" class=\"dataframe\">\n",
       "  <thead>\n",
       "    <tr style=\"text-align: right;\">\n",
       "      <th></th>\n",
       "      <th>Last name</th>\n",
       "      <th>First name</th>\n",
       "    </tr>\n",
       "  </thead>\n",
       "  <tbody>\n",
       "    <tr>\n",
       "      <th>1</th>\n",
       "      <td>Badr</td>\n",
       "      <td>Ahmed</td>\n",
       "    </tr>\n",
       "    <tr>\n",
       "      <th>0</th>\n",
       "      <td>Smith</td>\n",
       "      <td>Adam</td>\n",
       "    </tr>\n",
       "  </tbody>\n",
       "</table>\n",
       "</div>"
      ],
      "text/plain": [
       "  Last name First name\n",
       "1      Badr      Ahmed\n",
       "0     Smith       Adam"
      ]
     },
     "execution_count": 34,
     "metadata": {},
     "output_type": "execute_result"
    }
   ],
   "source": [
    "people_df.iloc[[1, 0], [1, 0]]"
   ]
  },
  {
   "cell_type": "markdown",
   "id": "99b6974e",
   "metadata": {},
   "source": [
    "Once again, we get a filtered DataFrame with the rows and columns we called, and in the order we specified. If we call a single column in our 2nd argment, we would receive a Series object with the required values:"
   ]
  },
  {
   "cell_type": "code",
   "execution_count": 45,
   "id": "6268dab6",
   "metadata": {},
   "outputs": [
    {
     "data": {
      "text/plain": [
       "0    Smith\n",
       "1     Badr\n",
       "Name: Last name, dtype: object"
      ]
     },
     "execution_count": 45,
     "metadata": {},
     "output_type": "execute_result"
    }
   ],
   "source": [
    "people_df.iloc[[0, 1], 1]"
   ]
  },
  {
   "cell_type": "markdown",
   "id": "be5c1c90",
   "metadata": {},
   "source": [
    "Note: With **iloc**, we can **only** use **integers** to specify the rows and columns we want to call."
   ]
  },
  {
   "cell_type": "markdown",
   "id": "a3f6b411",
   "metadata": {},
   "source": [
    "To call a single row using loc:"
   ]
  },
  {
   "cell_type": "code",
   "execution_count": 37,
   "id": "cfbb7d0e",
   "metadata": {},
   "outputs": [
    {
     "data": {
      "text/plain": [
       "First name                   Adam\n",
       "Last name                   Smith\n",
       "Email         adamsmith@gmail.com\n",
       "Name: 0, dtype: object"
      ]
     },
     "execution_count": 37,
     "metadata": {},
     "output_type": "execute_result"
    }
   ],
   "source": [
    "people_df.loc[0]"
   ]
  },
  {
   "cell_type": "markdown",
   "id": "13270cb4",
   "metadata": {},
   "source": [
    "To access multiple rows at once in loc:"
   ]
  },
  {
   "cell_type": "code",
   "execution_count": 40,
   "id": "308e7c0a",
   "metadata": {},
   "outputs": [
    {
     "data": {
      "text/html": [
       "<div>\n",
       "<style scoped>\n",
       "    .dataframe tbody tr th:only-of-type {\n",
       "        vertical-align: middle;\n",
       "    }\n",
       "\n",
       "    .dataframe tbody tr th {\n",
       "        vertical-align: top;\n",
       "    }\n",
       "\n",
       "    .dataframe thead th {\n",
       "        text-align: right;\n",
       "    }\n",
       "</style>\n",
       "<table border=\"1\" class=\"dataframe\">\n",
       "  <thead>\n",
       "    <tr style=\"text-align: right;\">\n",
       "      <th></th>\n",
       "      <th>First name</th>\n",
       "      <th>Last name</th>\n",
       "      <th>Email</th>\n",
       "    </tr>\n",
       "  </thead>\n",
       "  <tbody>\n",
       "    <tr>\n",
       "      <th>2</th>\n",
       "      <td>Jake</td>\n",
       "      <td>Doe</td>\n",
       "      <td>jakedoe@whydoyouevencaretoreadthis.org</td>\n",
       "    </tr>\n",
       "    <tr>\n",
       "      <th>1</th>\n",
       "      <td>Ahmed</td>\n",
       "      <td>Badr</td>\n",
       "      <td>ahmedbadr@notreally.com</td>\n",
       "    </tr>\n",
       "  </tbody>\n",
       "</table>\n",
       "</div>"
      ],
      "text/plain": [
       "  First name Last name                                   Email\n",
       "2       Jake       Doe  jakedoe@whydoyouevencaretoreadthis.org\n",
       "1      Ahmed      Badr                 ahmedbadr@notreally.com"
      ]
     },
     "execution_count": 40,
     "metadata": {},
     "output_type": "execute_result"
    }
   ],
   "source": [
    "people_df.loc[[2, 1]]"
   ]
  },
  {
   "cell_type": "markdown",
   "id": "9d5c6f3d",
   "metadata": {},
   "source": [
    "With the loc function, we can specify the columns we would like to call, by passing **strings** as a second argument. For example:"
   ]
  },
  {
   "cell_type": "code",
   "execution_count": 41,
   "id": "95d7745b",
   "metadata": {},
   "outputs": [
    {
     "data": {
      "text/html": [
       "<div>\n",
       "<style scoped>\n",
       "    .dataframe tbody tr th:only-of-type {\n",
       "        vertical-align: middle;\n",
       "    }\n",
       "\n",
       "    .dataframe tbody tr th {\n",
       "        vertical-align: top;\n",
       "    }\n",
       "\n",
       "    .dataframe thead th {\n",
       "        text-align: right;\n",
       "    }\n",
       "</style>\n",
       "<table border=\"1\" class=\"dataframe\">\n",
       "  <thead>\n",
       "    <tr style=\"text-align: right;\">\n",
       "      <th></th>\n",
       "      <th>First name</th>\n",
       "      <th>Email</th>\n",
       "    </tr>\n",
       "  </thead>\n",
       "  <tbody>\n",
       "    <tr>\n",
       "      <th>1</th>\n",
       "      <td>Ahmed</td>\n",
       "      <td>ahmedbadr@notreally.com</td>\n",
       "    </tr>\n",
       "    <tr>\n",
       "      <th>0</th>\n",
       "      <td>Adam</td>\n",
       "      <td>adamsmith@gmail.com</td>\n",
       "    </tr>\n",
       "  </tbody>\n",
       "</table>\n",
       "</div>"
      ],
      "text/plain": [
       "  First name                    Email\n",
       "1      Ahmed  ahmedbadr@notreally.com\n",
       "0       Adam      adamsmith@gmail.com"
      ]
     },
     "execution_count": 41,
     "metadata": {},
     "output_type": "execute_result"
    }
   ],
   "source": [
    "people_df.loc[[1, 0], ['First name', 'Email']]"
   ]
  },
  {
   "cell_type": "markdown",
   "id": "dc9ebcb3",
   "metadata": {},
   "source": [
    "Once again, if we call a single column in our 2nd argment, we would receive a Series object with the required values:"
   ]
  },
  {
   "cell_type": "code",
   "execution_count": 43,
   "id": "74838d2e",
   "metadata": {},
   "outputs": [
    {
     "data": {
      "text/plain": [
       "1    ahmedbadr@notreally.com\n",
       "0        adamsmith@gmail.com\n",
       "Name: Email, dtype: object"
      ]
     },
     "execution_count": 43,
     "metadata": {},
     "output_type": "execute_result"
    }
   ],
   "source": [
    "people_df.loc[[1, 0], 'Email']"
   ]
  },
  {
   "cell_type": "markdown",
   "id": "e5b6f6ef",
   "metadata": {},
   "source": [
    "Note: With **loc**, we can **only** use **strings** to specify the columns we want to call."
   ]
  },
  {
   "cell_type": "markdown",
   "id": "a10a16ec",
   "metadata": {},
   "source": [
    "----------------------------------------------------------------------------------------------------"
   ]
  },
  {
   "cell_type": "markdown",
   "id": "487c7556",
   "metadata": {},
   "source": [
    "Now, let's apply what we've learned to the Stack Overflow dataset.\n",
    "\n",
    "First, we load our files, then we change the default options of maximum visible rows and colums to 85 each:"
   ]
  },
  {
   "cell_type": "code",
   "execution_count": 46,
   "id": "e10f3a7b",
   "metadata": {},
   "outputs": [],
   "source": [
    "df = pd.read_csv('survey_results_public.csv')\n",
    "schema_df = pd.read_csv('survey_results_schema.csv')"
   ]
  },
  {
   "cell_type": "code",
   "execution_count": 47,
   "id": "27e1577e",
   "metadata": {},
   "outputs": [],
   "source": [
    "pd.set_option('display.max_columns', 85)\n",
    "pd.set_option('display.max_rows', 85)"
   ]
  },
  {
   "cell_type": "markdown",
   "id": "cfe01108",
   "metadata": {},
   "source": [
    "Let's look at the head of our dataset again, then pick a column to call:"
   ]
  },
  {
   "cell_type": "code",
   "execution_count": 48,
   "id": "9c3229ca",
   "metadata": {},
   "outputs": [
    {
     "data": {
      "text/html": [
       "<div>\n",
       "<style scoped>\n",
       "    .dataframe tbody tr th:only-of-type {\n",
       "        vertical-align: middle;\n",
       "    }\n",
       "\n",
       "    .dataframe tbody tr th {\n",
       "        vertical-align: top;\n",
       "    }\n",
       "\n",
       "    .dataframe thead th {\n",
       "        text-align: right;\n",
       "    }\n",
       "</style>\n",
       "<table border=\"1\" class=\"dataframe\">\n",
       "  <thead>\n",
       "    <tr style=\"text-align: right;\">\n",
       "      <th></th>\n",
       "      <th>Respondent</th>\n",
       "      <th>MainBranch</th>\n",
       "      <th>Hobbyist</th>\n",
       "      <th>OpenSourcer</th>\n",
       "      <th>OpenSource</th>\n",
       "      <th>Employment</th>\n",
       "      <th>Country</th>\n",
       "      <th>Student</th>\n",
       "      <th>EdLevel</th>\n",
       "      <th>UndergradMajor</th>\n",
       "      <th>EduOther</th>\n",
       "      <th>OrgSize</th>\n",
       "      <th>DevType</th>\n",
       "      <th>YearsCode</th>\n",
       "      <th>Age1stCode</th>\n",
       "      <th>YearsCodePro</th>\n",
       "      <th>CareerSat</th>\n",
       "      <th>JobSat</th>\n",
       "      <th>MgrIdiot</th>\n",
       "      <th>MgrMoney</th>\n",
       "      <th>MgrWant</th>\n",
       "      <th>JobSeek</th>\n",
       "      <th>LastHireDate</th>\n",
       "      <th>LastInt</th>\n",
       "      <th>FizzBuzz</th>\n",
       "      <th>JobFactors</th>\n",
       "      <th>ResumeUpdate</th>\n",
       "      <th>CurrencySymbol</th>\n",
       "      <th>CurrencyDesc</th>\n",
       "      <th>CompTotal</th>\n",
       "      <th>CompFreq</th>\n",
       "      <th>ConvertedComp</th>\n",
       "      <th>WorkWeekHrs</th>\n",
       "      <th>WorkPlan</th>\n",
       "      <th>WorkChallenge</th>\n",
       "      <th>WorkRemote</th>\n",
       "      <th>WorkLoc</th>\n",
       "      <th>ImpSyn</th>\n",
       "      <th>CodeRev</th>\n",
       "      <th>CodeRevHrs</th>\n",
       "      <th>UnitTests</th>\n",
       "      <th>PurchaseHow</th>\n",
       "      <th>PurchaseWhat</th>\n",
       "      <th>LanguageWorkedWith</th>\n",
       "      <th>LanguageDesireNextYear</th>\n",
       "      <th>DatabaseWorkedWith</th>\n",
       "      <th>DatabaseDesireNextYear</th>\n",
       "      <th>PlatformWorkedWith</th>\n",
       "      <th>PlatformDesireNextYear</th>\n",
       "      <th>WebFrameWorkedWith</th>\n",
       "      <th>WebFrameDesireNextYear</th>\n",
       "      <th>MiscTechWorkedWith</th>\n",
       "      <th>MiscTechDesireNextYear</th>\n",
       "      <th>DevEnviron</th>\n",
       "      <th>OpSys</th>\n",
       "      <th>Containers</th>\n",
       "      <th>BlockchainOrg</th>\n",
       "      <th>BlockchainIs</th>\n",
       "      <th>BetterLife</th>\n",
       "      <th>ITperson</th>\n",
       "      <th>OffOn</th>\n",
       "      <th>SocialMedia</th>\n",
       "      <th>Extraversion</th>\n",
       "      <th>ScreenName</th>\n",
       "      <th>SOVisit1st</th>\n",
       "      <th>SOVisitFreq</th>\n",
       "      <th>SOVisitTo</th>\n",
       "      <th>SOFindAnswer</th>\n",
       "      <th>SOTimeSaved</th>\n",
       "      <th>SOHowMuchTime</th>\n",
       "      <th>SOAccount</th>\n",
       "      <th>SOPartFreq</th>\n",
       "      <th>SOJobs</th>\n",
       "      <th>EntTeams</th>\n",
       "      <th>SOComm</th>\n",
       "      <th>WelcomeChange</th>\n",
       "      <th>SONewContent</th>\n",
       "      <th>Age</th>\n",
       "      <th>Gender</th>\n",
       "      <th>Trans</th>\n",
       "      <th>Sexuality</th>\n",
       "      <th>Ethnicity</th>\n",
       "      <th>Dependents</th>\n",
       "      <th>SurveyLength</th>\n",
       "      <th>SurveyEase</th>\n",
       "    </tr>\n",
       "  </thead>\n",
       "  <tbody>\n",
       "    <tr>\n",
       "      <th>0</th>\n",
       "      <td>1</td>\n",
       "      <td>I am a student who is learning to code</td>\n",
       "      <td>Yes</td>\n",
       "      <td>Never</td>\n",
       "      <td>The quality of OSS and closed source software ...</td>\n",
       "      <td>Not employed, and not looking for work</td>\n",
       "      <td>United Kingdom</td>\n",
       "      <td>No</td>\n",
       "      <td>Primary/elementary school</td>\n",
       "      <td>NaN</td>\n",
       "      <td>Taught yourself a new language, framework, or ...</td>\n",
       "      <td>NaN</td>\n",
       "      <td>NaN</td>\n",
       "      <td>4</td>\n",
       "      <td>10</td>\n",
       "      <td>NaN</td>\n",
       "      <td>NaN</td>\n",
       "      <td>NaN</td>\n",
       "      <td>NaN</td>\n",
       "      <td>NaN</td>\n",
       "      <td>NaN</td>\n",
       "      <td>NaN</td>\n",
       "      <td>NaN</td>\n",
       "      <td>NaN</td>\n",
       "      <td>NaN</td>\n",
       "      <td>NaN</td>\n",
       "      <td>NaN</td>\n",
       "      <td>NaN</td>\n",
       "      <td>NaN</td>\n",
       "      <td>NaN</td>\n",
       "      <td>NaN</td>\n",
       "      <td>NaN</td>\n",
       "      <td>NaN</td>\n",
       "      <td>NaN</td>\n",
       "      <td>NaN</td>\n",
       "      <td>NaN</td>\n",
       "      <td>NaN</td>\n",
       "      <td>NaN</td>\n",
       "      <td>NaN</td>\n",
       "      <td>NaN</td>\n",
       "      <td>NaN</td>\n",
       "      <td>NaN</td>\n",
       "      <td>NaN</td>\n",
       "      <td>HTML/CSS;Java;JavaScript;Python</td>\n",
       "      <td>C;C++;C#;Go;HTML/CSS;Java;JavaScript;Python;SQL</td>\n",
       "      <td>SQLite</td>\n",
       "      <td>MySQL</td>\n",
       "      <td>MacOS;Windows</td>\n",
       "      <td>Android;Arduino;Windows</td>\n",
       "      <td>Django;Flask</td>\n",
       "      <td>Flask;jQuery</td>\n",
       "      <td>Node.js</td>\n",
       "      <td>Node.js</td>\n",
       "      <td>IntelliJ;Notepad++;PyCharm</td>\n",
       "      <td>Windows</td>\n",
       "      <td>I do not use containers</td>\n",
       "      <td>NaN</td>\n",
       "      <td>NaN</td>\n",
       "      <td>Yes</td>\n",
       "      <td>Fortunately, someone else has that title</td>\n",
       "      <td>Yes</td>\n",
       "      <td>Twitter</td>\n",
       "      <td>Online</td>\n",
       "      <td>Username</td>\n",
       "      <td>2017</td>\n",
       "      <td>A few times per month or weekly</td>\n",
       "      <td>Find answers to specific questions;Learn how t...</td>\n",
       "      <td>3-5 times per week</td>\n",
       "      <td>Stack Overflow was much faster</td>\n",
       "      <td>31-60 minutes</td>\n",
       "      <td>No</td>\n",
       "      <td>NaN</td>\n",
       "      <td>No, I didn't know that Stack Overflow had a jo...</td>\n",
       "      <td>No, and I don't know what those are</td>\n",
       "      <td>Neutral</td>\n",
       "      <td>Just as welcome now as I felt last year</td>\n",
       "      <td>Tech articles written by other developers;Indu...</td>\n",
       "      <td>14.0</td>\n",
       "      <td>Man</td>\n",
       "      <td>No</td>\n",
       "      <td>Straight / Heterosexual</td>\n",
       "      <td>NaN</td>\n",
       "      <td>No</td>\n",
       "      <td>Appropriate in length</td>\n",
       "      <td>Neither easy nor difficult</td>\n",
       "    </tr>\n",
       "    <tr>\n",
       "      <th>1</th>\n",
       "      <td>2</td>\n",
       "      <td>I am a student who is learning to code</td>\n",
       "      <td>No</td>\n",
       "      <td>Less than once per year</td>\n",
       "      <td>The quality of OSS and closed source software ...</td>\n",
       "      <td>Not employed, but looking for work</td>\n",
       "      <td>Bosnia and Herzegovina</td>\n",
       "      <td>Yes, full-time</td>\n",
       "      <td>Secondary school (e.g. American high school, G...</td>\n",
       "      <td>NaN</td>\n",
       "      <td>Taken an online course in programming or softw...</td>\n",
       "      <td>NaN</td>\n",
       "      <td>Developer, desktop or enterprise applications;...</td>\n",
       "      <td>NaN</td>\n",
       "      <td>17</td>\n",
       "      <td>NaN</td>\n",
       "      <td>NaN</td>\n",
       "      <td>NaN</td>\n",
       "      <td>NaN</td>\n",
       "      <td>NaN</td>\n",
       "      <td>NaN</td>\n",
       "      <td>I am actively looking for a job</td>\n",
       "      <td>I've never had a job</td>\n",
       "      <td>NaN</td>\n",
       "      <td>NaN</td>\n",
       "      <td>Financial performance or funding status of the...</td>\n",
       "      <td>Something else changed (education, award, medi...</td>\n",
       "      <td>NaN</td>\n",
       "      <td>NaN</td>\n",
       "      <td>NaN</td>\n",
       "      <td>NaN</td>\n",
       "      <td>NaN</td>\n",
       "      <td>NaN</td>\n",
       "      <td>NaN</td>\n",
       "      <td>NaN</td>\n",
       "      <td>NaN</td>\n",
       "      <td>NaN</td>\n",
       "      <td>NaN</td>\n",
       "      <td>NaN</td>\n",
       "      <td>NaN</td>\n",
       "      <td>NaN</td>\n",
       "      <td>NaN</td>\n",
       "      <td>NaN</td>\n",
       "      <td>C++;HTML/CSS;Python</td>\n",
       "      <td>C++;HTML/CSS;JavaScript;SQL</td>\n",
       "      <td>NaN</td>\n",
       "      <td>MySQL</td>\n",
       "      <td>Windows</td>\n",
       "      <td>Windows</td>\n",
       "      <td>Django</td>\n",
       "      <td>Django</td>\n",
       "      <td>NaN</td>\n",
       "      <td>NaN</td>\n",
       "      <td>Atom;PyCharm</td>\n",
       "      <td>Windows</td>\n",
       "      <td>I do not use containers</td>\n",
       "      <td>NaN</td>\n",
       "      <td>Useful across many domains and could change ma...</td>\n",
       "      <td>Yes</td>\n",
       "      <td>Yes</td>\n",
       "      <td>Yes</td>\n",
       "      <td>Instagram</td>\n",
       "      <td>Online</td>\n",
       "      <td>Username</td>\n",
       "      <td>2017</td>\n",
       "      <td>Daily or almost daily</td>\n",
       "      <td>Find answers to specific questions;Learn how t...</td>\n",
       "      <td>3-5 times per week</td>\n",
       "      <td>Stack Overflow was much faster</td>\n",
       "      <td>11-30 minutes</td>\n",
       "      <td>Yes</td>\n",
       "      <td>A few times per month or weekly</td>\n",
       "      <td>No, I knew that Stack Overflow had a job board...</td>\n",
       "      <td>No, and I don't know what those are</td>\n",
       "      <td>Yes, somewhat</td>\n",
       "      <td>Just as welcome now as I felt last year</td>\n",
       "      <td>Tech articles written by other developers;Indu...</td>\n",
       "      <td>19.0</td>\n",
       "      <td>Man</td>\n",
       "      <td>No</td>\n",
       "      <td>Straight / Heterosexual</td>\n",
       "      <td>NaN</td>\n",
       "      <td>No</td>\n",
       "      <td>Appropriate in length</td>\n",
       "      <td>Neither easy nor difficult</td>\n",
       "    </tr>\n",
       "    <tr>\n",
       "      <th>2</th>\n",
       "      <td>3</td>\n",
       "      <td>I am not primarily a developer, but I write co...</td>\n",
       "      <td>Yes</td>\n",
       "      <td>Never</td>\n",
       "      <td>The quality of OSS and closed source software ...</td>\n",
       "      <td>Employed full-time</td>\n",
       "      <td>Thailand</td>\n",
       "      <td>No</td>\n",
       "      <td>Bachelor’s degree (BA, BS, B.Eng., etc.)</td>\n",
       "      <td>Web development or web design</td>\n",
       "      <td>Taught yourself a new language, framework, or ...</td>\n",
       "      <td>100 to 499 employees</td>\n",
       "      <td>Designer;Developer, back-end;Developer, front-...</td>\n",
       "      <td>3</td>\n",
       "      <td>22</td>\n",
       "      <td>1</td>\n",
       "      <td>Slightly satisfied</td>\n",
       "      <td>Slightly satisfied</td>\n",
       "      <td>Not at all confident</td>\n",
       "      <td>Not sure</td>\n",
       "      <td>Not sure</td>\n",
       "      <td>I’m not actively looking, but I am open to new...</td>\n",
       "      <td>1-2 years ago</td>\n",
       "      <td>Interview with people in peer roles</td>\n",
       "      <td>No</td>\n",
       "      <td>Languages, frameworks, and other technologies ...</td>\n",
       "      <td>I was preparing for a job search</td>\n",
       "      <td>THB</td>\n",
       "      <td>Thai baht</td>\n",
       "      <td>23000.0</td>\n",
       "      <td>Monthly</td>\n",
       "      <td>8820.0</td>\n",
       "      <td>40.0</td>\n",
       "      <td>There's no schedule or spec; I work on what se...</td>\n",
       "      <td>Distracting work environment;Inadequate access...</td>\n",
       "      <td>Less than once per month / Never</td>\n",
       "      <td>Home</td>\n",
       "      <td>Average</td>\n",
       "      <td>No</td>\n",
       "      <td>NaN</td>\n",
       "      <td>No, but I think we should</td>\n",
       "      <td>Not sure</td>\n",
       "      <td>I have little or no influence</td>\n",
       "      <td>HTML/CSS</td>\n",
       "      <td>Elixir;HTML/CSS</td>\n",
       "      <td>PostgreSQL</td>\n",
       "      <td>PostgreSQL</td>\n",
       "      <td>NaN</td>\n",
       "      <td>NaN</td>\n",
       "      <td>NaN</td>\n",
       "      <td>Other(s):</td>\n",
       "      <td>NaN</td>\n",
       "      <td>NaN</td>\n",
       "      <td>Vim;Visual Studio Code</td>\n",
       "      <td>Linux-based</td>\n",
       "      <td>I do not use containers</td>\n",
       "      <td>NaN</td>\n",
       "      <td>NaN</td>\n",
       "      <td>Yes</td>\n",
       "      <td>Yes</td>\n",
       "      <td>Yes</td>\n",
       "      <td>Reddit</td>\n",
       "      <td>In real life (in person)</td>\n",
       "      <td>Username</td>\n",
       "      <td>2011</td>\n",
       "      <td>A few times per week</td>\n",
       "      <td>Find answers to specific questions;Learn how t...</td>\n",
       "      <td>6-10 times per week</td>\n",
       "      <td>They were about the same</td>\n",
       "      <td>NaN</td>\n",
       "      <td>Yes</td>\n",
       "      <td>Less than once per month or monthly</td>\n",
       "      <td>Yes</td>\n",
       "      <td>No, I've heard of them, but I am not part of a...</td>\n",
       "      <td>Neutral</td>\n",
       "      <td>Just as welcome now as I felt last year</td>\n",
       "      <td>Tech meetups or events in your area;Courses on...</td>\n",
       "      <td>28.0</td>\n",
       "      <td>Man</td>\n",
       "      <td>No</td>\n",
       "      <td>Straight / Heterosexual</td>\n",
       "      <td>NaN</td>\n",
       "      <td>Yes</td>\n",
       "      <td>Appropriate in length</td>\n",
       "      <td>Neither easy nor difficult</td>\n",
       "    </tr>\n",
       "    <tr>\n",
       "      <th>3</th>\n",
       "      <td>4</td>\n",
       "      <td>I am a developer by profession</td>\n",
       "      <td>No</td>\n",
       "      <td>Never</td>\n",
       "      <td>The quality of OSS and closed source software ...</td>\n",
       "      <td>Employed full-time</td>\n",
       "      <td>United States</td>\n",
       "      <td>No</td>\n",
       "      <td>Bachelor’s degree (BA, BS, B.Eng., etc.)</td>\n",
       "      <td>Computer science, computer engineering, or sof...</td>\n",
       "      <td>Taken an online course in programming or softw...</td>\n",
       "      <td>100 to 499 employees</td>\n",
       "      <td>Developer, full-stack</td>\n",
       "      <td>3</td>\n",
       "      <td>16</td>\n",
       "      <td>Less than 1 year</td>\n",
       "      <td>Very satisfied</td>\n",
       "      <td>Slightly satisfied</td>\n",
       "      <td>Very confident</td>\n",
       "      <td>No</td>\n",
       "      <td>Not sure</td>\n",
       "      <td>I am not interested in new job opportunities</td>\n",
       "      <td>Less than a year ago</td>\n",
       "      <td>Write code by hand (e.g., on a whiteboard);Int...</td>\n",
       "      <td>No</td>\n",
       "      <td>Languages, frameworks, and other technologies ...</td>\n",
       "      <td>I was preparing for a job search</td>\n",
       "      <td>USD</td>\n",
       "      <td>United States dollar</td>\n",
       "      <td>61000.0</td>\n",
       "      <td>Yearly</td>\n",
       "      <td>61000.0</td>\n",
       "      <td>80.0</td>\n",
       "      <td>There's no schedule or spec; I work on what se...</td>\n",
       "      <td>NaN</td>\n",
       "      <td>Less than once per month / Never</td>\n",
       "      <td>Home</td>\n",
       "      <td>A little below average</td>\n",
       "      <td>No</td>\n",
       "      <td>NaN</td>\n",
       "      <td>No, but I think we should</td>\n",
       "      <td>Developers typically have the most influence o...</td>\n",
       "      <td>I have little or no influence</td>\n",
       "      <td>C;C++;C#;Python;SQL</td>\n",
       "      <td>C;C#;JavaScript;SQL</td>\n",
       "      <td>MySQL;SQLite</td>\n",
       "      <td>MySQL;SQLite</td>\n",
       "      <td>Linux;Windows</td>\n",
       "      <td>Linux;Windows</td>\n",
       "      <td>NaN</td>\n",
       "      <td>NaN</td>\n",
       "      <td>.NET</td>\n",
       "      <td>.NET</td>\n",
       "      <td>Eclipse;Vim;Visual Studio;Visual Studio Code</td>\n",
       "      <td>Windows</td>\n",
       "      <td>I do not use containers</td>\n",
       "      <td>Not at all</td>\n",
       "      <td>Useful for decentralized currency (i.e., Bitcoin)</td>\n",
       "      <td>Yes</td>\n",
       "      <td>SIGH</td>\n",
       "      <td>Yes</td>\n",
       "      <td>Reddit</td>\n",
       "      <td>In real life (in person)</td>\n",
       "      <td>Username</td>\n",
       "      <td>2014</td>\n",
       "      <td>Daily or almost daily</td>\n",
       "      <td>Find answers to specific questions;Pass the ti...</td>\n",
       "      <td>1-2 times per week</td>\n",
       "      <td>Stack Overflow was much faster</td>\n",
       "      <td>31-60 minutes</td>\n",
       "      <td>Yes</td>\n",
       "      <td>Less than once per month or monthly</td>\n",
       "      <td>Yes</td>\n",
       "      <td>No, and I don't know what those are</td>\n",
       "      <td>No, not really</td>\n",
       "      <td>Just as welcome now as I felt last year</td>\n",
       "      <td>Tech articles written by other developers;Indu...</td>\n",
       "      <td>22.0</td>\n",
       "      <td>Man</td>\n",
       "      <td>No</td>\n",
       "      <td>Straight / Heterosexual</td>\n",
       "      <td>White or of European descent</td>\n",
       "      <td>No</td>\n",
       "      <td>Appropriate in length</td>\n",
       "      <td>Easy</td>\n",
       "    </tr>\n",
       "    <tr>\n",
       "      <th>4</th>\n",
       "      <td>5</td>\n",
       "      <td>I am a developer by profession</td>\n",
       "      <td>Yes</td>\n",
       "      <td>Once a month or more often</td>\n",
       "      <td>OSS is, on average, of HIGHER quality than pro...</td>\n",
       "      <td>Employed full-time</td>\n",
       "      <td>Ukraine</td>\n",
       "      <td>No</td>\n",
       "      <td>Bachelor’s degree (BA, BS, B.Eng., etc.)</td>\n",
       "      <td>Computer science, computer engineering, or sof...</td>\n",
       "      <td>Taken an online course in programming or softw...</td>\n",
       "      <td>10,000 or more employees</td>\n",
       "      <td>Academic researcher;Developer, desktop or ente...</td>\n",
       "      <td>16</td>\n",
       "      <td>14</td>\n",
       "      <td>9</td>\n",
       "      <td>Very dissatisfied</td>\n",
       "      <td>Slightly dissatisfied</td>\n",
       "      <td>Somewhat confident</td>\n",
       "      <td>Yes</td>\n",
       "      <td>No</td>\n",
       "      <td>I am not interested in new job opportunities</td>\n",
       "      <td>Less than a year ago</td>\n",
       "      <td>Write any code;Write code by hand (e.g., on a ...</td>\n",
       "      <td>No</td>\n",
       "      <td>Industry that I'd be working in;Languages, fra...</td>\n",
       "      <td>I was preparing for a job search</td>\n",
       "      <td>UAH</td>\n",
       "      <td>Ukrainian hryvnia</td>\n",
       "      <td>NaN</td>\n",
       "      <td>NaN</td>\n",
       "      <td>NaN</td>\n",
       "      <td>55.0</td>\n",
       "      <td>There is a schedule and/or spec (made by me or...</td>\n",
       "      <td>Being tasked with non-development work;Inadequ...</td>\n",
       "      <td>A few days each month</td>\n",
       "      <td>Office</td>\n",
       "      <td>A little above average</td>\n",
       "      <td>Yes, because I see value in code review</td>\n",
       "      <td>NaN</td>\n",
       "      <td>Yes, it's part of our process</td>\n",
       "      <td>Not sure</td>\n",
       "      <td>I have little or no influence</td>\n",
       "      <td>C++;HTML/CSS;Java;JavaScript;Python;SQL;VBA</td>\n",
       "      <td>HTML/CSS;Java;JavaScript;SQL;WebAssembly</td>\n",
       "      <td>Couchbase;MongoDB;MySQL;Oracle;PostgreSQL;SQLite</td>\n",
       "      <td>Couchbase;Firebase;MongoDB;MySQL;Oracle;Postgr...</td>\n",
       "      <td>Android;Linux;MacOS;Slack;Windows</td>\n",
       "      <td>Android;Docker;Kubernetes;Linux;Slack</td>\n",
       "      <td>Django;Express;Flask;jQuery;React.js;Spring</td>\n",
       "      <td>Flask;jQuery;React.js;Spring</td>\n",
       "      <td>Cordova;Node.js</td>\n",
       "      <td>Apache Spark;Hadoop;Node.js;React Native</td>\n",
       "      <td>IntelliJ;Notepad++;Vim</td>\n",
       "      <td>Linux-based</td>\n",
       "      <td>Outside of work, for personal projects</td>\n",
       "      <td>Not at all</td>\n",
       "      <td>NaN</td>\n",
       "      <td>Yes</td>\n",
       "      <td>Also Yes</td>\n",
       "      <td>Yes</td>\n",
       "      <td>Facebook</td>\n",
       "      <td>In real life (in person)</td>\n",
       "      <td>Username</td>\n",
       "      <td>I don't remember</td>\n",
       "      <td>Multiple times per day</td>\n",
       "      <td>Find answers to specific questions</td>\n",
       "      <td>More than 10 times per week</td>\n",
       "      <td>Stack Overflow was much faster</td>\n",
       "      <td>NaN</td>\n",
       "      <td>Yes</td>\n",
       "      <td>A few times per month or weekly</td>\n",
       "      <td>No, I knew that Stack Overflow had a job board...</td>\n",
       "      <td>No, I've heard of them, but I am not part of a...</td>\n",
       "      <td>Yes, definitely</td>\n",
       "      <td>Just as welcome now as I felt last year</td>\n",
       "      <td>Tech meetups or events in your area;Courses on...</td>\n",
       "      <td>30.0</td>\n",
       "      <td>Man</td>\n",
       "      <td>No</td>\n",
       "      <td>Straight / Heterosexual</td>\n",
       "      <td>White or of European descent;Multiracial</td>\n",
       "      <td>No</td>\n",
       "      <td>Appropriate in length</td>\n",
       "      <td>Easy</td>\n",
       "    </tr>\n",
       "  </tbody>\n",
       "</table>\n",
       "</div>"
      ],
      "text/plain": [
       "   Respondent                                         MainBranch Hobbyist  \\\n",
       "0           1             I am a student who is learning to code      Yes   \n",
       "1           2             I am a student who is learning to code       No   \n",
       "2           3  I am not primarily a developer, but I write co...      Yes   \n",
       "3           4                     I am a developer by profession       No   \n",
       "4           5                     I am a developer by profession      Yes   \n",
       "\n",
       "                  OpenSourcer  \\\n",
       "0                       Never   \n",
       "1     Less than once per year   \n",
       "2                       Never   \n",
       "3                       Never   \n",
       "4  Once a month or more often   \n",
       "\n",
       "                                          OpenSource  \\\n",
       "0  The quality of OSS and closed source software ...   \n",
       "1  The quality of OSS and closed source software ...   \n",
       "2  The quality of OSS and closed source software ...   \n",
       "3  The quality of OSS and closed source software ...   \n",
       "4  OSS is, on average, of HIGHER quality than pro...   \n",
       "\n",
       "                               Employment                 Country  \\\n",
       "0  Not employed, and not looking for work          United Kingdom   \n",
       "1      Not employed, but looking for work  Bosnia and Herzegovina   \n",
       "2                      Employed full-time                Thailand   \n",
       "3                      Employed full-time           United States   \n",
       "4                      Employed full-time                 Ukraine   \n",
       "\n",
       "          Student                                            EdLevel  \\\n",
       "0              No                          Primary/elementary school   \n",
       "1  Yes, full-time  Secondary school (e.g. American high school, G...   \n",
       "2              No           Bachelor’s degree (BA, BS, B.Eng., etc.)   \n",
       "3              No           Bachelor’s degree (BA, BS, B.Eng., etc.)   \n",
       "4              No           Bachelor’s degree (BA, BS, B.Eng., etc.)   \n",
       "\n",
       "                                      UndergradMajor  \\\n",
       "0                                                NaN   \n",
       "1                                                NaN   \n",
       "2                      Web development or web design   \n",
       "3  Computer science, computer engineering, or sof...   \n",
       "4  Computer science, computer engineering, or sof...   \n",
       "\n",
       "                                            EduOther  \\\n",
       "0  Taught yourself a new language, framework, or ...   \n",
       "1  Taken an online course in programming or softw...   \n",
       "2  Taught yourself a new language, framework, or ...   \n",
       "3  Taken an online course in programming or softw...   \n",
       "4  Taken an online course in programming or softw...   \n",
       "\n",
       "                    OrgSize  \\\n",
       "0                       NaN   \n",
       "1                       NaN   \n",
       "2      100 to 499 employees   \n",
       "3      100 to 499 employees   \n",
       "4  10,000 or more employees   \n",
       "\n",
       "                                             DevType YearsCode Age1stCode  \\\n",
       "0                                                NaN         4         10   \n",
       "1  Developer, desktop or enterprise applications;...       NaN         17   \n",
       "2  Designer;Developer, back-end;Developer, front-...         3         22   \n",
       "3                              Developer, full-stack         3         16   \n",
       "4  Academic researcher;Developer, desktop or ente...        16         14   \n",
       "\n",
       "       YearsCodePro           CareerSat                 JobSat  \\\n",
       "0               NaN                 NaN                    NaN   \n",
       "1               NaN                 NaN                    NaN   \n",
       "2                 1  Slightly satisfied     Slightly satisfied   \n",
       "3  Less than 1 year      Very satisfied     Slightly satisfied   \n",
       "4                 9   Very dissatisfied  Slightly dissatisfied   \n",
       "\n",
       "               MgrIdiot  MgrMoney   MgrWant  \\\n",
       "0                   NaN       NaN       NaN   \n",
       "1                   NaN       NaN       NaN   \n",
       "2  Not at all confident  Not sure  Not sure   \n",
       "3        Very confident        No  Not sure   \n",
       "4    Somewhat confident       Yes        No   \n",
       "\n",
       "                                             JobSeek          LastHireDate  \\\n",
       "0                                                NaN                   NaN   \n",
       "1                    I am actively looking for a job  I've never had a job   \n",
       "2  I’m not actively looking, but I am open to new...         1-2 years ago   \n",
       "3       I am not interested in new job opportunities  Less than a year ago   \n",
       "4       I am not interested in new job opportunities  Less than a year ago   \n",
       "\n",
       "                                             LastInt FizzBuzz  \\\n",
       "0                                                NaN      NaN   \n",
       "1                                                NaN      NaN   \n",
       "2                Interview with people in peer roles       No   \n",
       "3  Write code by hand (e.g., on a whiteboard);Int...       No   \n",
       "4  Write any code;Write code by hand (e.g., on a ...       No   \n",
       "\n",
       "                                          JobFactors  \\\n",
       "0                                                NaN   \n",
       "1  Financial performance or funding status of the...   \n",
       "2  Languages, frameworks, and other technologies ...   \n",
       "3  Languages, frameworks, and other technologies ...   \n",
       "4  Industry that I'd be working in;Languages, fra...   \n",
       "\n",
       "                                        ResumeUpdate CurrencySymbol  \\\n",
       "0                                                NaN            NaN   \n",
       "1  Something else changed (education, award, medi...            NaN   \n",
       "2                   I was preparing for a job search            THB   \n",
       "3                   I was preparing for a job search            USD   \n",
       "4                   I was preparing for a job search            UAH   \n",
       "\n",
       "           CurrencyDesc  CompTotal CompFreq  ConvertedComp  WorkWeekHrs  \\\n",
       "0                   NaN        NaN      NaN            NaN          NaN   \n",
       "1                   NaN        NaN      NaN            NaN          NaN   \n",
       "2             Thai baht    23000.0  Monthly         8820.0         40.0   \n",
       "3  United States dollar    61000.0   Yearly        61000.0         80.0   \n",
       "4     Ukrainian hryvnia        NaN      NaN            NaN         55.0   \n",
       "\n",
       "                                            WorkPlan  \\\n",
       "0                                                NaN   \n",
       "1                                                NaN   \n",
       "2  There's no schedule or spec; I work on what se...   \n",
       "3  There's no schedule or spec; I work on what se...   \n",
       "4  There is a schedule and/or spec (made by me or...   \n",
       "\n",
       "                                       WorkChallenge  \\\n",
       "0                                                NaN   \n",
       "1                                                NaN   \n",
       "2  Distracting work environment;Inadequate access...   \n",
       "3                                                NaN   \n",
       "4  Being tasked with non-development work;Inadequ...   \n",
       "\n",
       "                         WorkRemote WorkLoc                  ImpSyn  \\\n",
       "0                               NaN     NaN                     NaN   \n",
       "1                               NaN     NaN                     NaN   \n",
       "2  Less than once per month / Never    Home                 Average   \n",
       "3  Less than once per month / Never    Home  A little below average   \n",
       "4             A few days each month  Office  A little above average   \n",
       "\n",
       "                                   CodeRev  CodeRevHrs  \\\n",
       "0                                      NaN         NaN   \n",
       "1                                      NaN         NaN   \n",
       "2                                       No         NaN   \n",
       "3                                       No         NaN   \n",
       "4  Yes, because I see value in code review         NaN   \n",
       "\n",
       "                       UnitTests  \\\n",
       "0                            NaN   \n",
       "1                            NaN   \n",
       "2      No, but I think we should   \n",
       "3      No, but I think we should   \n",
       "4  Yes, it's part of our process   \n",
       "\n",
       "                                         PurchaseHow  \\\n",
       "0                                                NaN   \n",
       "1                                                NaN   \n",
       "2                                           Not sure   \n",
       "3  Developers typically have the most influence o...   \n",
       "4                                           Not sure   \n",
       "\n",
       "                    PurchaseWhat                           LanguageWorkedWith  \\\n",
       "0                            NaN              HTML/CSS;Java;JavaScript;Python   \n",
       "1                            NaN                          C++;HTML/CSS;Python   \n",
       "2  I have little or no influence                                     HTML/CSS   \n",
       "3  I have little or no influence                          C;C++;C#;Python;SQL   \n",
       "4  I have little or no influence  C++;HTML/CSS;Java;JavaScript;Python;SQL;VBA   \n",
       "\n",
       "                            LanguageDesireNextYear  \\\n",
       "0  C;C++;C#;Go;HTML/CSS;Java;JavaScript;Python;SQL   \n",
       "1                      C++;HTML/CSS;JavaScript;SQL   \n",
       "2                                  Elixir;HTML/CSS   \n",
       "3                              C;C#;JavaScript;SQL   \n",
       "4         HTML/CSS;Java;JavaScript;SQL;WebAssembly   \n",
       "\n",
       "                                 DatabaseWorkedWith  \\\n",
       "0                                            SQLite   \n",
       "1                                               NaN   \n",
       "2                                        PostgreSQL   \n",
       "3                                      MySQL;SQLite   \n",
       "4  Couchbase;MongoDB;MySQL;Oracle;PostgreSQL;SQLite   \n",
       "\n",
       "                              DatabaseDesireNextYear  \\\n",
       "0                                              MySQL   \n",
       "1                                              MySQL   \n",
       "2                                         PostgreSQL   \n",
       "3                                       MySQL;SQLite   \n",
       "4  Couchbase;Firebase;MongoDB;MySQL;Oracle;Postgr...   \n",
       "\n",
       "                  PlatformWorkedWith                 PlatformDesireNextYear  \\\n",
       "0                      MacOS;Windows                Android;Arduino;Windows   \n",
       "1                            Windows                                Windows   \n",
       "2                                NaN                                    NaN   \n",
       "3                      Linux;Windows                          Linux;Windows   \n",
       "4  Android;Linux;MacOS;Slack;Windows  Android;Docker;Kubernetes;Linux;Slack   \n",
       "\n",
       "                            WebFrameWorkedWith        WebFrameDesireNextYear  \\\n",
       "0                                 Django;Flask                  Flask;jQuery   \n",
       "1                                       Django                        Django   \n",
       "2                                          NaN                     Other(s):   \n",
       "3                                          NaN                           NaN   \n",
       "4  Django;Express;Flask;jQuery;React.js;Spring  Flask;jQuery;React.js;Spring   \n",
       "\n",
       "  MiscTechWorkedWith                    MiscTechDesireNextYear  \\\n",
       "0            Node.js                                   Node.js   \n",
       "1                NaN                                       NaN   \n",
       "2                NaN                                       NaN   \n",
       "3               .NET                                      .NET   \n",
       "4    Cordova;Node.js  Apache Spark;Hadoop;Node.js;React Native   \n",
       "\n",
       "                                     DevEnviron        OpSys  \\\n",
       "0                    IntelliJ;Notepad++;PyCharm      Windows   \n",
       "1                                  Atom;PyCharm      Windows   \n",
       "2                        Vim;Visual Studio Code  Linux-based   \n",
       "3  Eclipse;Vim;Visual Studio;Visual Studio Code      Windows   \n",
       "4                        IntelliJ;Notepad++;Vim  Linux-based   \n",
       "\n",
       "                               Containers BlockchainOrg  \\\n",
       "0                 I do not use containers           NaN   \n",
       "1                 I do not use containers           NaN   \n",
       "2                 I do not use containers           NaN   \n",
       "3                 I do not use containers    Not at all   \n",
       "4  Outside of work, for personal projects    Not at all   \n",
       "\n",
       "                                        BlockchainIs BetterLife  \\\n",
       "0                                                NaN        Yes   \n",
       "1  Useful across many domains and could change ma...        Yes   \n",
       "2                                                NaN        Yes   \n",
       "3  Useful for decentralized currency (i.e., Bitcoin)        Yes   \n",
       "4                                                NaN        Yes   \n",
       "\n",
       "                                   ITperson OffOn SocialMedia  \\\n",
       "0  Fortunately, someone else has that title   Yes     Twitter   \n",
       "1                                       Yes   Yes   Instagram   \n",
       "2                                       Yes   Yes      Reddit   \n",
       "3                                      SIGH   Yes      Reddit   \n",
       "4                                  Also Yes   Yes    Facebook   \n",
       "\n",
       "               Extraversion ScreenName        SOVisit1st  \\\n",
       "0                    Online   Username              2017   \n",
       "1                    Online   Username              2017   \n",
       "2  In real life (in person)   Username              2011   \n",
       "3  In real life (in person)   Username              2014   \n",
       "4  In real life (in person)   Username  I don't remember   \n",
       "\n",
       "                       SOVisitFreq  \\\n",
       "0  A few times per month or weekly   \n",
       "1            Daily or almost daily   \n",
       "2             A few times per week   \n",
       "3            Daily or almost daily   \n",
       "4           Multiple times per day   \n",
       "\n",
       "                                           SOVisitTo  \\\n",
       "0  Find answers to specific questions;Learn how t...   \n",
       "1  Find answers to specific questions;Learn how t...   \n",
       "2  Find answers to specific questions;Learn how t...   \n",
       "3  Find answers to specific questions;Pass the ti...   \n",
       "4                 Find answers to specific questions   \n",
       "\n",
       "                  SOFindAnswer                     SOTimeSaved  SOHowMuchTime  \\\n",
       "0           3-5 times per week  Stack Overflow was much faster  31-60 minutes   \n",
       "1           3-5 times per week  Stack Overflow was much faster  11-30 minutes   \n",
       "2          6-10 times per week        They were about the same            NaN   \n",
       "3           1-2 times per week  Stack Overflow was much faster  31-60 minutes   \n",
       "4  More than 10 times per week  Stack Overflow was much faster            NaN   \n",
       "\n",
       "  SOAccount                           SOPartFreq  \\\n",
       "0        No                                  NaN   \n",
       "1       Yes      A few times per month or weekly   \n",
       "2       Yes  Less than once per month or monthly   \n",
       "3       Yes  Less than once per month or monthly   \n",
       "4       Yes      A few times per month or weekly   \n",
       "\n",
       "                                              SOJobs  \\\n",
       "0  No, I didn't know that Stack Overflow had a jo...   \n",
       "1  No, I knew that Stack Overflow had a job board...   \n",
       "2                                                Yes   \n",
       "3                                                Yes   \n",
       "4  No, I knew that Stack Overflow had a job board...   \n",
       "\n",
       "                                            EntTeams           SOComm  \\\n",
       "0                No, and I don't know what those are          Neutral   \n",
       "1                No, and I don't know what those are    Yes, somewhat   \n",
       "2  No, I've heard of them, but I am not part of a...          Neutral   \n",
       "3                No, and I don't know what those are   No, not really   \n",
       "4  No, I've heard of them, but I am not part of a...  Yes, definitely   \n",
       "\n",
       "                             WelcomeChange  \\\n",
       "0  Just as welcome now as I felt last year   \n",
       "1  Just as welcome now as I felt last year   \n",
       "2  Just as welcome now as I felt last year   \n",
       "3  Just as welcome now as I felt last year   \n",
       "4  Just as welcome now as I felt last year   \n",
       "\n",
       "                                        SONewContent   Age Gender Trans  \\\n",
       "0  Tech articles written by other developers;Indu...  14.0    Man    No   \n",
       "1  Tech articles written by other developers;Indu...  19.0    Man    No   \n",
       "2  Tech meetups or events in your area;Courses on...  28.0    Man    No   \n",
       "3  Tech articles written by other developers;Indu...  22.0    Man    No   \n",
       "4  Tech meetups or events in your area;Courses on...  30.0    Man    No   \n",
       "\n",
       "                 Sexuality                                 Ethnicity  \\\n",
       "0  Straight / Heterosexual                                       NaN   \n",
       "1  Straight / Heterosexual                                       NaN   \n",
       "2  Straight / Heterosexual                                       NaN   \n",
       "3  Straight / Heterosexual              White or of European descent   \n",
       "4  Straight / Heterosexual  White or of European descent;Multiracial   \n",
       "\n",
       "  Dependents           SurveyLength                  SurveyEase  \n",
       "0         No  Appropriate in length  Neither easy nor difficult  \n",
       "1         No  Appropriate in length  Neither easy nor difficult  \n",
       "2        Yes  Appropriate in length  Neither easy nor difficult  \n",
       "3         No  Appropriate in length                        Easy  \n",
       "4         No  Appropriate in length                        Easy  "
      ]
     },
     "execution_count": 48,
     "metadata": {},
     "output_type": "execute_result"
    }
   ],
   "source": [
    "df.head()"
   ]
  },
  {
   "cell_type": "markdown",
   "id": "1443e2bf",
   "metadata": {},
   "source": [
    "If we want to look at all the columns we have and view them all wihout scrolling, we use:"
   ]
  },
  {
   "cell_type": "code",
   "execution_count": 50,
   "id": "acb83c78",
   "metadata": {},
   "outputs": [
    {
     "data": {
      "text/plain": [
       "Index(['Respondent', 'MainBranch', 'Hobbyist', 'OpenSourcer', 'OpenSource',\n",
       "       'Employment', 'Country', 'Student', 'EdLevel', 'UndergradMajor',\n",
       "       'EduOther', 'OrgSize', 'DevType', 'YearsCode', 'Age1stCode',\n",
       "       'YearsCodePro', 'CareerSat', 'JobSat', 'MgrIdiot', 'MgrMoney',\n",
       "       'MgrWant', 'JobSeek', 'LastHireDate', 'LastInt', 'FizzBuzz',\n",
       "       'JobFactors', 'ResumeUpdate', 'CurrencySymbol', 'CurrencyDesc',\n",
       "       'CompTotal', 'CompFreq', 'ConvertedComp', 'WorkWeekHrs', 'WorkPlan',\n",
       "       'WorkChallenge', 'WorkRemote', 'WorkLoc', 'ImpSyn', 'CodeRev',\n",
       "       'CodeRevHrs', 'UnitTests', 'PurchaseHow', 'PurchaseWhat',\n",
       "       'LanguageWorkedWith', 'LanguageDesireNextYear', 'DatabaseWorkedWith',\n",
       "       'DatabaseDesireNextYear', 'PlatformWorkedWith',\n",
       "       'PlatformDesireNextYear', 'WebFrameWorkedWith',\n",
       "       'WebFrameDesireNextYear', 'MiscTechWorkedWith',\n",
       "       'MiscTechDesireNextYear', 'DevEnviron', 'OpSys', 'Containers',\n",
       "       'BlockchainOrg', 'BlockchainIs', 'BetterLife', 'ITperson', 'OffOn',\n",
       "       'SocialMedia', 'Extraversion', 'ScreenName', 'SOVisit1st',\n",
       "       'SOVisitFreq', 'SOVisitTo', 'SOFindAnswer', 'SOTimeSaved',\n",
       "       'SOHowMuchTime', 'SOAccount', 'SOPartFreq', 'SOJobs', 'EntTeams',\n",
       "       'SOComm', 'WelcomeChange', 'SONewContent', 'Age', 'Gender', 'Trans',\n",
       "       'Sexuality', 'Ethnicity', 'Dependents', 'SurveyLength', 'SurveyEase'],\n",
       "      dtype='object')"
      ]
     },
     "execution_count": 50,
     "metadata": {},
     "output_type": "execute_result"
    }
   ],
   "source": [
    "df.columns"
   ]
  },
  {
   "cell_type": "markdown",
   "id": "6fdbdbe9",
   "metadata": {},
   "source": [
    "Let's call the 'Hobbyist' column:"
   ]
  },
  {
   "cell_type": "code",
   "execution_count": 49,
   "id": "10d9e4ef",
   "metadata": {},
   "outputs": [
    {
     "data": {
      "text/plain": [
       "0        Yes\n",
       "1         No\n",
       "2        Yes\n",
       "3         No\n",
       "4        Yes\n",
       "        ... \n",
       "88878    Yes\n",
       "88879     No\n",
       "88880     No\n",
       "88881     No\n",
       "88882    Yes\n",
       "Name: Hobbyist, Length: 88883, dtype: object"
      ]
     },
     "execution_count": 49,
     "metadata": {},
     "output_type": "execute_result"
    }
   ],
   "source": [
    "df['Hobbyist']"
   ]
  },
  {
   "cell_type": "markdown",
   "id": "be86c373",
   "metadata": {},
   "source": [
    "The following function is out of the scope of this notebook, but is used here to tease the abilities of Pandas.\n",
    "\n",
    "If we want to count all answers present in the 'Hobbyist' column, we can use:"
   ]
  },
  {
   "cell_type": "code",
   "execution_count": 54,
   "id": "0c73a947",
   "metadata": {},
   "outputs": [
    {
     "data": {
      "text/plain": [
       "Yes    71257\n",
       "No     17626\n",
       "Name: Hobbyist, dtype: int64"
      ]
     },
     "execution_count": 54,
     "metadata": {},
     "output_type": "execute_result"
    }
   ],
   "source": [
    "df['Hobbyist'].value_counts()"
   ]
  },
  {
   "cell_type": "markdown",
   "id": "1cfb82b0",
   "metadata": {},
   "source": [
    "Now, going back to our example, let's grab the first row of the 'Hobbyist' column:"
   ]
  },
  {
   "cell_type": "code",
   "execution_count": 56,
   "id": "92675219",
   "metadata": {},
   "outputs": [
    {
     "data": {
      "text/plain": [
       "'Yes'"
      ]
     },
     "execution_count": 56,
     "metadata": {},
     "output_type": "execute_result"
    }
   ],
   "source": [
    "df.loc[0, 'Hobbyist']"
   ]
  },
  {
   "cell_type": "markdown",
   "id": "b3f2a6b1",
   "metadata": {},
   "source": [
    "Now, if we want to grab the first 3 rows of the 'Hobbyist' column:"
   ]
  },
  {
   "cell_type": "code",
   "execution_count": 57,
   "id": "5586fd76",
   "metadata": {},
   "outputs": [
    {
     "data": {
      "text/plain": [
       "0    Yes\n",
       "1     No\n",
       "2    Yes\n",
       "Name: Hobbyist, dtype: object"
      ]
     },
     "execution_count": 57,
     "metadata": {},
     "output_type": "execute_result"
    }
   ],
   "source": [
    "df.loc[[0, 1, 2], 'Hobbyist']"
   ]
  },
  {
   "cell_type": "markdown",
   "id": "d9c6d138",
   "metadata": {},
   "source": [
    "Or alternatively, we can use slicing, which works similarly to Python lists, except the last value is included:"
   ]
  },
  {
   "cell_type": "code",
   "execution_count": 61,
   "id": "ad8f67f0",
   "metadata": {},
   "outputs": [
    {
     "data": {
      "text/plain": [
       "0    Yes\n",
       "1     No\n",
       "2    Yes\n",
       "Name: Hobbyist, dtype: object"
      ]
     },
     "execution_count": 61,
     "metadata": {},
     "output_type": "execute_result"
    }
   ],
   "source": [
    "df.loc[0:2, 'Hobbyist']"
   ]
  },
  {
   "cell_type": "markdown",
   "id": "866bf992",
   "metadata": {},
   "source": [
    "**Note: do not wrap the values in brackets when slicing!**\n",
    "\n",
    "**Note: when slicing with loc, the last value is included!**"
   ]
  },
  {
   "cell_type": "markdown",
   "id": "99527f5a",
   "metadata": {},
   "source": [
    "The reason why the last value is included when slicing with loc, is that we can also use it to slice/grab multiple columns by label.\n",
    "\n",
    "Example: Let's grab all the columns from 'Hobbyist' to 'Employment' for the first 9 rows:"
   ]
  },
  {
   "cell_type": "code",
   "execution_count": 62,
   "id": "07ccc889",
   "metadata": {},
   "outputs": [
    {
     "data": {
      "text/html": [
       "<div>\n",
       "<style scoped>\n",
       "    .dataframe tbody tr th:only-of-type {\n",
       "        vertical-align: middle;\n",
       "    }\n",
       "\n",
       "    .dataframe tbody tr th {\n",
       "        vertical-align: top;\n",
       "    }\n",
       "\n",
       "    .dataframe thead th {\n",
       "        text-align: right;\n",
       "    }\n",
       "</style>\n",
       "<table border=\"1\" class=\"dataframe\">\n",
       "  <thead>\n",
       "    <tr style=\"text-align: right;\">\n",
       "      <th></th>\n",
       "      <th>Hobbyist</th>\n",
       "      <th>OpenSourcer</th>\n",
       "      <th>OpenSource</th>\n",
       "      <th>Employment</th>\n",
       "    </tr>\n",
       "  </thead>\n",
       "  <tbody>\n",
       "    <tr>\n",
       "      <th>0</th>\n",
       "      <td>Yes</td>\n",
       "      <td>Never</td>\n",
       "      <td>The quality of OSS and closed source software ...</td>\n",
       "      <td>Not employed, and not looking for work</td>\n",
       "    </tr>\n",
       "    <tr>\n",
       "      <th>1</th>\n",
       "      <td>No</td>\n",
       "      <td>Less than once per year</td>\n",
       "      <td>The quality of OSS and closed source software ...</td>\n",
       "      <td>Not employed, but looking for work</td>\n",
       "    </tr>\n",
       "    <tr>\n",
       "      <th>2</th>\n",
       "      <td>Yes</td>\n",
       "      <td>Never</td>\n",
       "      <td>The quality of OSS and closed source software ...</td>\n",
       "      <td>Employed full-time</td>\n",
       "    </tr>\n",
       "    <tr>\n",
       "      <th>3</th>\n",
       "      <td>No</td>\n",
       "      <td>Never</td>\n",
       "      <td>The quality of OSS and closed source software ...</td>\n",
       "      <td>Employed full-time</td>\n",
       "    </tr>\n",
       "    <tr>\n",
       "      <th>4</th>\n",
       "      <td>Yes</td>\n",
       "      <td>Once a month or more often</td>\n",
       "      <td>OSS is, on average, of HIGHER quality than pro...</td>\n",
       "      <td>Employed full-time</td>\n",
       "    </tr>\n",
       "    <tr>\n",
       "      <th>5</th>\n",
       "      <td>Yes</td>\n",
       "      <td>Never</td>\n",
       "      <td>The quality of OSS and closed source software ...</td>\n",
       "      <td>Employed full-time</td>\n",
       "    </tr>\n",
       "    <tr>\n",
       "      <th>6</th>\n",
       "      <td>No</td>\n",
       "      <td>Never</td>\n",
       "      <td>The quality of OSS and closed source software ...</td>\n",
       "      <td>Independent contractor, freelancer, or self-em...</td>\n",
       "    </tr>\n",
       "    <tr>\n",
       "      <th>7</th>\n",
       "      <td>Yes</td>\n",
       "      <td>Less than once per year</td>\n",
       "      <td>OSS is, on average, of HIGHER quality than pro...</td>\n",
       "      <td>Not employed, but looking for work</td>\n",
       "    </tr>\n",
       "    <tr>\n",
       "      <th>8</th>\n",
       "      <td>Yes</td>\n",
       "      <td>Once a month or more often</td>\n",
       "      <td>The quality of OSS and closed source software ...</td>\n",
       "      <td>Employed full-time</td>\n",
       "    </tr>\n",
       "  </tbody>\n",
       "</table>\n",
       "</div>"
      ],
      "text/plain": [
       "  Hobbyist                 OpenSourcer  \\\n",
       "0      Yes                       Never   \n",
       "1       No     Less than once per year   \n",
       "2      Yes                       Never   \n",
       "3       No                       Never   \n",
       "4      Yes  Once a month or more often   \n",
       "5      Yes                       Never   \n",
       "6       No                       Never   \n",
       "7      Yes     Less than once per year   \n",
       "8      Yes  Once a month or more often   \n",
       "\n",
       "                                          OpenSource  \\\n",
       "0  The quality of OSS and closed source software ...   \n",
       "1  The quality of OSS and closed source software ...   \n",
       "2  The quality of OSS and closed source software ...   \n",
       "3  The quality of OSS and closed source software ...   \n",
       "4  OSS is, on average, of HIGHER quality than pro...   \n",
       "5  The quality of OSS and closed source software ...   \n",
       "6  The quality of OSS and closed source software ...   \n",
       "7  OSS is, on average, of HIGHER quality than pro...   \n",
       "8  The quality of OSS and closed source software ...   \n",
       "\n",
       "                                          Employment  \n",
       "0             Not employed, and not looking for work  \n",
       "1                 Not employed, but looking for work  \n",
       "2                                 Employed full-time  \n",
       "3                                 Employed full-time  \n",
       "4                                 Employed full-time  \n",
       "5                                 Employed full-time  \n",
       "6  Independent contractor, freelancer, or self-em...  \n",
       "7                 Not employed, but looking for work  \n",
       "8                                 Employed full-time  "
      ]
     },
     "execution_count": 62,
     "metadata": {},
     "output_type": "execute_result"
    }
   ],
   "source": [
    "df.loc[0:8, 'Hobbyist':'Employment']"
   ]
  },
  {
   "cell_type": "code",
   "execution_count": null,
   "id": "5ffec9d2",
   "metadata": {},
   "outputs": [],
   "source": []
  }
 ],
 "metadata": {
  "kernelspec": {
   "display_name": "Python 3 (ipykernel)",
   "language": "python",
   "name": "python3"
  },
  "language_info": {
   "codemirror_mode": {
    "name": "ipython",
    "version": 3
   },
   "file_extension": ".py",
   "mimetype": "text/x-python",
   "name": "python",
   "nbconvert_exporter": "python",
   "pygments_lexer": "ipython3",
   "version": "3.9.12"
  }
 },
 "nbformat": 4,
 "nbformat_minor": 5
}
